{
 "cells": [
  {
   "cell_type": "markdown",
   "id": "3fc39647",
   "metadata": {},
   "source": [
    "#### Veri Ön İşleme"
   ]
  },
  {
   "cell_type": "code",
   "execution_count": 1,
   "id": "763a88a9",
   "metadata": {},
   "outputs": [],
   "source": [
    "import pandas as pd\n",
    "import numpy as np\n",
    "import matplotlib.pyplot as plt\n",
    "import seaborn as sns\n",
    "import warnings\n",
    "warnings.filterwarnings('ignore')"
   ]
  },
  {
   "cell_type": "markdown",
   "id": "da0b2e6b",
   "metadata": {},
   "source": [
    "* Veri analizi için kütüphaneler : pandas, numpy\n",
    "\n",
    "* Veri görselleştirmesi için kütüphaneler :  matplotlib, seaborn\n",
    "\n",
    "* Çıktılardaki uyarıları gizlemek için warnings kütüphanesi kullanılmıştır."
   ]
  },
  {
   "cell_type": "code",
   "execution_count": 2,
   "id": "1ae09583",
   "metadata": {},
   "outputs": [],
   "source": [
    "data = pd.read_csv(\"mushrooms.csv\")"
   ]
  },
  {
   "cell_type": "markdown",
   "id": "823c355e",
   "metadata": {},
   "source": [
    "* Veri seitimizi python da data değişkeninin içinde atadık."
   ]
  },
  {
   "cell_type": "code",
   "execution_count": 3,
   "id": "83ad2648",
   "metadata": {},
   "outputs": [
    {
     "name": "stdout",
     "output_type": "stream",
     "text": [
      "<class 'pandas.core.frame.DataFrame'>\n",
      "RangeIndex: 8124 entries, 0 to 8123\n",
      "Data columns (total 23 columns):\n",
      " #   Column                    Non-Null Count  Dtype \n",
      "---  ------                    --------------  ----- \n",
      " 0   class                     8124 non-null   object\n",
      " 1   cap-shape                 8124 non-null   object\n",
      " 2   cap-surface               8124 non-null   object\n",
      " 3   cap-color                 8124 non-null   object\n",
      " 4   bruises                   8124 non-null   object\n",
      " 5   odor                      8124 non-null   object\n",
      " 6   gill-attachment           8124 non-null   object\n",
      " 7   gill-spacing              8124 non-null   object\n",
      " 8   gill-size                 8124 non-null   object\n",
      " 9   gill-color                8124 non-null   object\n",
      " 10  stalk-shape               8124 non-null   object\n",
      " 11  stalk-root                8124 non-null   object\n",
      " 12  stalk-surface-above-ring  8124 non-null   object\n",
      " 13  stalk-surface-below-ring  8124 non-null   object\n",
      " 14  stalk-color-above-ring    8124 non-null   object\n",
      " 15  stalk-color-below-ring    8124 non-null   object\n",
      " 16  veil-type                 8124 non-null   object\n",
      " 17  veil-color                8124 non-null   object\n",
      " 18  ring-number               8124 non-null   object\n",
      " 19  ring-type                 8124 non-null   object\n",
      " 20  spore-print-color         8124 non-null   object\n",
      " 21  population                8124 non-null   object\n",
      " 22  habitat                   8124 non-null   object\n",
      "dtypes: object(23)\n",
      "memory usage: 1.4+ MB\n"
     ]
    }
   ],
   "source": [
    "data.info()"
   ]
  },
  {
   "cell_type": "markdown",
   "id": "57a720f7",
   "metadata": {},
   "source": [
    "* Değikenlerimizin isimlerine, eksik gözlem bilgisine ve değişkenlerin veri tiplerine ulaşmak için .info() kodunu kullandık"
   ]
  },
  {
   "cell_type": "code",
   "execution_count": 4,
   "id": "f5e7ba54",
   "metadata": {},
   "outputs": [
    {
     "data": {
      "text/html": [
       "<div>\n",
       "<style scoped>\n",
       "    .dataframe tbody tr th:only-of-type {\n",
       "        vertical-align: middle;\n",
       "    }\n",
       "\n",
       "    .dataframe tbody tr th {\n",
       "        vertical-align: top;\n",
       "    }\n",
       "\n",
       "    .dataframe thead th {\n",
       "        text-align: right;\n",
       "    }\n",
       "</style>\n",
       "<table border=\"1\" class=\"dataframe\">\n",
       "  <thead>\n",
       "    <tr style=\"text-align: right;\">\n",
       "      <th></th>\n",
       "      <th>class</th>\n",
       "      <th>cap-shape</th>\n",
       "      <th>cap-surface</th>\n",
       "      <th>cap-color</th>\n",
       "      <th>bruises</th>\n",
       "      <th>odor</th>\n",
       "      <th>gill-attachment</th>\n",
       "      <th>gill-spacing</th>\n",
       "      <th>gill-size</th>\n",
       "      <th>gill-color</th>\n",
       "      <th>...</th>\n",
       "      <th>stalk-surface-below-ring</th>\n",
       "      <th>stalk-color-above-ring</th>\n",
       "      <th>stalk-color-below-ring</th>\n",
       "      <th>veil-type</th>\n",
       "      <th>veil-color</th>\n",
       "      <th>ring-number</th>\n",
       "      <th>ring-type</th>\n",
       "      <th>spore-print-color</th>\n",
       "      <th>population</th>\n",
       "      <th>habitat</th>\n",
       "    </tr>\n",
       "  </thead>\n",
       "  <tbody>\n",
       "    <tr>\n",
       "      <th>0</th>\n",
       "      <td>p</td>\n",
       "      <td>x</td>\n",
       "      <td>s</td>\n",
       "      <td>n</td>\n",
       "      <td>t</td>\n",
       "      <td>p</td>\n",
       "      <td>f</td>\n",
       "      <td>c</td>\n",
       "      <td>n</td>\n",
       "      <td>k</td>\n",
       "      <td>...</td>\n",
       "      <td>s</td>\n",
       "      <td>w</td>\n",
       "      <td>w</td>\n",
       "      <td>p</td>\n",
       "      <td>w</td>\n",
       "      <td>o</td>\n",
       "      <td>p</td>\n",
       "      <td>k</td>\n",
       "      <td>s</td>\n",
       "      <td>u</td>\n",
       "    </tr>\n",
       "    <tr>\n",
       "      <th>1</th>\n",
       "      <td>e</td>\n",
       "      <td>x</td>\n",
       "      <td>s</td>\n",
       "      <td>y</td>\n",
       "      <td>t</td>\n",
       "      <td>a</td>\n",
       "      <td>f</td>\n",
       "      <td>c</td>\n",
       "      <td>b</td>\n",
       "      <td>k</td>\n",
       "      <td>...</td>\n",
       "      <td>s</td>\n",
       "      <td>w</td>\n",
       "      <td>w</td>\n",
       "      <td>p</td>\n",
       "      <td>w</td>\n",
       "      <td>o</td>\n",
       "      <td>p</td>\n",
       "      <td>n</td>\n",
       "      <td>n</td>\n",
       "      <td>g</td>\n",
       "    </tr>\n",
       "    <tr>\n",
       "      <th>2</th>\n",
       "      <td>e</td>\n",
       "      <td>b</td>\n",
       "      <td>s</td>\n",
       "      <td>w</td>\n",
       "      <td>t</td>\n",
       "      <td>l</td>\n",
       "      <td>f</td>\n",
       "      <td>c</td>\n",
       "      <td>b</td>\n",
       "      <td>n</td>\n",
       "      <td>...</td>\n",
       "      <td>s</td>\n",
       "      <td>w</td>\n",
       "      <td>w</td>\n",
       "      <td>p</td>\n",
       "      <td>w</td>\n",
       "      <td>o</td>\n",
       "      <td>p</td>\n",
       "      <td>n</td>\n",
       "      <td>n</td>\n",
       "      <td>m</td>\n",
       "    </tr>\n",
       "    <tr>\n",
       "      <th>3</th>\n",
       "      <td>p</td>\n",
       "      <td>x</td>\n",
       "      <td>y</td>\n",
       "      <td>w</td>\n",
       "      <td>t</td>\n",
       "      <td>p</td>\n",
       "      <td>f</td>\n",
       "      <td>c</td>\n",
       "      <td>n</td>\n",
       "      <td>n</td>\n",
       "      <td>...</td>\n",
       "      <td>s</td>\n",
       "      <td>w</td>\n",
       "      <td>w</td>\n",
       "      <td>p</td>\n",
       "      <td>w</td>\n",
       "      <td>o</td>\n",
       "      <td>p</td>\n",
       "      <td>k</td>\n",
       "      <td>s</td>\n",
       "      <td>u</td>\n",
       "    </tr>\n",
       "    <tr>\n",
       "      <th>4</th>\n",
       "      <td>e</td>\n",
       "      <td>x</td>\n",
       "      <td>s</td>\n",
       "      <td>g</td>\n",
       "      <td>f</td>\n",
       "      <td>n</td>\n",
       "      <td>f</td>\n",
       "      <td>w</td>\n",
       "      <td>b</td>\n",
       "      <td>k</td>\n",
       "      <td>...</td>\n",
       "      <td>s</td>\n",
       "      <td>w</td>\n",
       "      <td>w</td>\n",
       "      <td>p</td>\n",
       "      <td>w</td>\n",
       "      <td>o</td>\n",
       "      <td>e</td>\n",
       "      <td>n</td>\n",
       "      <td>a</td>\n",
       "      <td>g</td>\n",
       "    </tr>\n",
       "  </tbody>\n",
       "</table>\n",
       "<p>5 rows × 23 columns</p>\n",
       "</div>"
      ],
      "text/plain": [
       "  class cap-shape cap-surface cap-color bruises odor gill-attachment  \\\n",
       "0     p         x           s         n       t    p               f   \n",
       "1     e         x           s         y       t    a               f   \n",
       "2     e         b           s         w       t    l               f   \n",
       "3     p         x           y         w       t    p               f   \n",
       "4     e         x           s         g       f    n               f   \n",
       "\n",
       "  gill-spacing gill-size gill-color  ... stalk-surface-below-ring  \\\n",
       "0            c         n          k  ...                        s   \n",
       "1            c         b          k  ...                        s   \n",
       "2            c         b          n  ...                        s   \n",
       "3            c         n          n  ...                        s   \n",
       "4            w         b          k  ...                        s   \n",
       "\n",
       "  stalk-color-above-ring stalk-color-below-ring veil-type veil-color  \\\n",
       "0                      w                      w         p          w   \n",
       "1                      w                      w         p          w   \n",
       "2                      w                      w         p          w   \n",
       "3                      w                      w         p          w   \n",
       "4                      w                      w         p          w   \n",
       "\n",
       "  ring-number ring-type spore-print-color population habitat  \n",
       "0           o         p                 k          s       u  \n",
       "1           o         p                 n          n       g  \n",
       "2           o         p                 n          n       m  \n",
       "3           o         p                 k          s       u  \n",
       "4           o         e                 n          a       g  \n",
       "\n",
       "[5 rows x 23 columns]"
      ]
     },
     "execution_count": 4,
     "metadata": {},
     "output_type": "execute_result"
    }
   ],
   "source": [
    "data.head()"
   ]
  },
  {
   "cell_type": "markdown",
   "id": "7e89dc32",
   "metadata": {},
   "source": [
    "* head() fonksiyonu ile veri setine ilk bakışımızı yapıyoruz. 23 değişkenimiz var ve çeşitli mantar özellikleri ile bu mantarın zehirli olup olmadığına ilikin bilgi mevcut"
   ]
  },
  {
   "cell_type": "code",
   "execution_count": 5,
   "id": "539454c7",
   "metadata": {},
   "outputs": [
    {
     "data": {
      "text/html": [
       "<div>\n",
       "<style scoped>\n",
       "    .dataframe tbody tr th:only-of-type {\n",
       "        vertical-align: middle;\n",
       "    }\n",
       "\n",
       "    .dataframe tbody tr th {\n",
       "        vertical-align: top;\n",
       "    }\n",
       "\n",
       "    .dataframe thead th {\n",
       "        text-align: right;\n",
       "    }\n",
       "</style>\n",
       "<table border=\"1\" class=\"dataframe\">\n",
       "  <thead>\n",
       "    <tr style=\"text-align: right;\">\n",
       "      <th></th>\n",
       "      <th>count</th>\n",
       "      <th>unique</th>\n",
       "      <th>top</th>\n",
       "      <th>freq</th>\n",
       "    </tr>\n",
       "  </thead>\n",
       "  <tbody>\n",
       "    <tr>\n",
       "      <th>class</th>\n",
       "      <td>8124</td>\n",
       "      <td>2</td>\n",
       "      <td>e</td>\n",
       "      <td>4208</td>\n",
       "    </tr>\n",
       "    <tr>\n",
       "      <th>cap-shape</th>\n",
       "      <td>8124</td>\n",
       "      <td>6</td>\n",
       "      <td>x</td>\n",
       "      <td>3656</td>\n",
       "    </tr>\n",
       "    <tr>\n",
       "      <th>cap-surface</th>\n",
       "      <td>8124</td>\n",
       "      <td>4</td>\n",
       "      <td>y</td>\n",
       "      <td>3244</td>\n",
       "    </tr>\n",
       "    <tr>\n",
       "      <th>cap-color</th>\n",
       "      <td>8124</td>\n",
       "      <td>10</td>\n",
       "      <td>n</td>\n",
       "      <td>2284</td>\n",
       "    </tr>\n",
       "    <tr>\n",
       "      <th>bruises</th>\n",
       "      <td>8124</td>\n",
       "      <td>2</td>\n",
       "      <td>f</td>\n",
       "      <td>4748</td>\n",
       "    </tr>\n",
       "    <tr>\n",
       "      <th>odor</th>\n",
       "      <td>8124</td>\n",
       "      <td>9</td>\n",
       "      <td>n</td>\n",
       "      <td>3528</td>\n",
       "    </tr>\n",
       "    <tr>\n",
       "      <th>gill-attachment</th>\n",
       "      <td>8124</td>\n",
       "      <td>2</td>\n",
       "      <td>f</td>\n",
       "      <td>7914</td>\n",
       "    </tr>\n",
       "    <tr>\n",
       "      <th>gill-spacing</th>\n",
       "      <td>8124</td>\n",
       "      <td>2</td>\n",
       "      <td>c</td>\n",
       "      <td>6812</td>\n",
       "    </tr>\n",
       "    <tr>\n",
       "      <th>gill-size</th>\n",
       "      <td>8124</td>\n",
       "      <td>2</td>\n",
       "      <td>b</td>\n",
       "      <td>5612</td>\n",
       "    </tr>\n",
       "    <tr>\n",
       "      <th>gill-color</th>\n",
       "      <td>8124</td>\n",
       "      <td>12</td>\n",
       "      <td>b</td>\n",
       "      <td>1728</td>\n",
       "    </tr>\n",
       "    <tr>\n",
       "      <th>stalk-shape</th>\n",
       "      <td>8124</td>\n",
       "      <td>2</td>\n",
       "      <td>t</td>\n",
       "      <td>4608</td>\n",
       "    </tr>\n",
       "    <tr>\n",
       "      <th>stalk-root</th>\n",
       "      <td>8124</td>\n",
       "      <td>5</td>\n",
       "      <td>b</td>\n",
       "      <td>3776</td>\n",
       "    </tr>\n",
       "    <tr>\n",
       "      <th>stalk-surface-above-ring</th>\n",
       "      <td>8124</td>\n",
       "      <td>4</td>\n",
       "      <td>s</td>\n",
       "      <td>5176</td>\n",
       "    </tr>\n",
       "    <tr>\n",
       "      <th>stalk-surface-below-ring</th>\n",
       "      <td>8124</td>\n",
       "      <td>4</td>\n",
       "      <td>s</td>\n",
       "      <td>4936</td>\n",
       "    </tr>\n",
       "    <tr>\n",
       "      <th>stalk-color-above-ring</th>\n",
       "      <td>8124</td>\n",
       "      <td>9</td>\n",
       "      <td>w</td>\n",
       "      <td>4464</td>\n",
       "    </tr>\n",
       "    <tr>\n",
       "      <th>stalk-color-below-ring</th>\n",
       "      <td>8124</td>\n",
       "      <td>9</td>\n",
       "      <td>w</td>\n",
       "      <td>4384</td>\n",
       "    </tr>\n",
       "    <tr>\n",
       "      <th>veil-type</th>\n",
       "      <td>8124</td>\n",
       "      <td>1</td>\n",
       "      <td>p</td>\n",
       "      <td>8124</td>\n",
       "    </tr>\n",
       "    <tr>\n",
       "      <th>veil-color</th>\n",
       "      <td>8124</td>\n",
       "      <td>4</td>\n",
       "      <td>w</td>\n",
       "      <td>7924</td>\n",
       "    </tr>\n",
       "    <tr>\n",
       "      <th>ring-number</th>\n",
       "      <td>8124</td>\n",
       "      <td>3</td>\n",
       "      <td>o</td>\n",
       "      <td>7488</td>\n",
       "    </tr>\n",
       "    <tr>\n",
       "      <th>ring-type</th>\n",
       "      <td>8124</td>\n",
       "      <td>5</td>\n",
       "      <td>p</td>\n",
       "      <td>3968</td>\n",
       "    </tr>\n",
       "    <tr>\n",
       "      <th>spore-print-color</th>\n",
       "      <td>8124</td>\n",
       "      <td>9</td>\n",
       "      <td>w</td>\n",
       "      <td>2388</td>\n",
       "    </tr>\n",
       "    <tr>\n",
       "      <th>population</th>\n",
       "      <td>8124</td>\n",
       "      <td>6</td>\n",
       "      <td>v</td>\n",
       "      <td>4040</td>\n",
       "    </tr>\n",
       "    <tr>\n",
       "      <th>habitat</th>\n",
       "      <td>8124</td>\n",
       "      <td>7</td>\n",
       "      <td>d</td>\n",
       "      <td>3148</td>\n",
       "    </tr>\n",
       "  </tbody>\n",
       "</table>\n",
       "</div>"
      ],
      "text/plain": [
       "                         count unique top  freq\n",
       "class                     8124      2   e  4208\n",
       "cap-shape                 8124      6   x  3656\n",
       "cap-surface               8124      4   y  3244\n",
       "cap-color                 8124     10   n  2284\n",
       "bruises                   8124      2   f  4748\n",
       "odor                      8124      9   n  3528\n",
       "gill-attachment           8124      2   f  7914\n",
       "gill-spacing              8124      2   c  6812\n",
       "gill-size                 8124      2   b  5612\n",
       "gill-color                8124     12   b  1728\n",
       "stalk-shape               8124      2   t  4608\n",
       "stalk-root                8124      5   b  3776\n",
       "stalk-surface-above-ring  8124      4   s  5176\n",
       "stalk-surface-below-ring  8124      4   s  4936\n",
       "stalk-color-above-ring    8124      9   w  4464\n",
       "stalk-color-below-ring    8124      9   w  4384\n",
       "veil-type                 8124      1   p  8124\n",
       "veil-color                8124      4   w  7924\n",
       "ring-number               8124      3   o  7488\n",
       "ring-type                 8124      5   p  3968\n",
       "spore-print-color         8124      9   w  2388\n",
       "population                8124      6   v  4040\n",
       "habitat                   8124      7   d  3148"
      ]
     },
     "execution_count": 5,
     "metadata": {},
     "output_type": "execute_result"
    }
   ],
   "source": [
    "data.describe().T"
   ]
  },
  {
   "cell_type": "markdown",
   "id": "48ca009f",
   "metadata": {},
   "source": [
    "* Tüm gözlemleri kategorik değişken olan verimiz için describe kodunun çıktısında değişkenlerin toplam gözlem sayısını, her değişkenin kaç kategorisi olduğunu, bu kategorilerden hangisinin en çok bulunduğunu ve frekansını görebiliriz."
   ]
  },
  {
   "cell_type": "markdown",
   "id": "74197409",
   "metadata": {},
   "source": [
    "Buradaki kategorik değişkenlerimizin sınıfları arasında bir sıralama olmadığı için object tipinde kalmasında bir sorun yoktur."
   ]
  },
  {
   "cell_type": "markdown",
   "id": "a6a31a35",
   "metadata": {},
   "source": [
    "##### Eksik gözlem \n",
    "\n",
    "* Kaggle platformunda verideki eksik gözlemler \"?\" ile tutulduğunu ve tüm eksik gözlemlerin stalk-root değişkeninde olduğu bilgisini veri hakkında yazısından öğrendiğimiz için öncelikle verideki bütün gözlemlerin içinde \"?\" olanları NaN değeri ile değiştirdik."
   ]
  },
  {
   "cell_type": "code",
   "execution_count": 6,
   "id": "29890feb",
   "metadata": {},
   "outputs": [],
   "source": [
    "data = data.replace({\"?\":np.NaN})"
   ]
  },
  {
   "cell_type": "code",
   "execution_count": 7,
   "id": "744d7736",
   "metadata": {},
   "outputs": [
    {
     "data": {
      "text/plain": [
       "2480"
      ]
     },
     "execution_count": 7,
     "metadata": {},
     "output_type": "execute_result"
    }
   ],
   "source": [
    "data[\"stalk-root\"].isna().sum()"
   ]
  },
  {
   "cell_type": "markdown",
   "id": "d59b985d",
   "metadata": {},
   "source": [
    "* Eksik gözlem sayımızın toplamı 2480"
   ]
  },
  {
   "cell_type": "code",
   "execution_count": 8,
   "id": "8c4e78f6",
   "metadata": {},
   "outputs": [
    {
     "data": {
      "text/plain": [
       "0    b\n",
       "dtype: object"
      ]
     },
     "execution_count": 8,
     "metadata": {},
     "output_type": "execute_result"
    }
   ],
   "source": [
    "data[\"stalk-root\"].mode()"
   ]
  },
  {
   "cell_type": "markdown",
   "id": "158be8ad",
   "metadata": {},
   "source": [
    "* Bu eksik gözlemlerin hepsi stalk-root değişkeninde olduğu için eksik gözlemler yerine stalk-root değişkeninin mod değerini yazabiliriz."
   ]
  },
  {
   "cell_type": "code",
   "execution_count": 9,
   "id": "15a32006",
   "metadata": {},
   "outputs": [],
   "source": [
    "data[\"stalk-root\"] = data[\"stalk-root\"].replace({np.NaN:\"b\"})"
   ]
  },
  {
   "cell_type": "code",
   "execution_count": 10,
   "id": "76e1c2e7",
   "metadata": {},
   "outputs": [
    {
     "data": {
      "text/plain": [
       "0"
      ]
     },
     "execution_count": 10,
     "metadata": {},
     "output_type": "execute_result"
    }
   ],
   "source": [
    "data[\"stalk-root\"].isna().sum()"
   ]
  },
  {
   "cell_type": "markdown",
   "id": "aab148b0",
   "metadata": {},
   "source": [
    "* Eksik gözlemlerin doldurulması sonucu artık verimizde eksik gözlem sorunu olmamış oluyor."
   ]
  },
  {
   "cell_type": "markdown",
   "id": "7422613f",
   "metadata": {},
   "source": [
    "* Her değişkenin kaç kategorisi olduğunu ve bu kategorilerin veride nasıl tutulduğunu öğrenmek için data frame değişkeninden kolon isimlerini alıp bir döngünün içinde her sütunun unique yani değişkenin sahip olduğu farklı sınıflara erişebileceğimiz fonksiyonu kullanıp listenin uzunluğunu hesaplatan kodu yazdık:"
   ]
  },
  {
   "cell_type": "code",
   "execution_count": 11,
   "id": "277313a2",
   "metadata": {},
   "outputs": [
    {
     "data": {
      "text/plain": [
       "pandas.core.indexes.base.Index"
      ]
     },
     "execution_count": 11,
     "metadata": {},
     "output_type": "execute_result"
    }
   ],
   "source": [
    "sutun_adi = data.columns\n",
    "type(sutun_adi)"
   ]
  },
  {
   "cell_type": "code",
   "execution_count": 12,
   "id": "81081c94",
   "metadata": {},
   "outputs": [
    {
     "name": "stdout",
     "output_type": "stream",
     "text": [
      "class:\n",
      "['p' 'e']\n",
      "2 kategori\n",
      "------------------------\n",
      "cap-shape:\n",
      "['x' 'b' 's' 'f' 'k' 'c']\n",
      "6 kategori\n",
      "------------------------\n",
      "cap-surface:\n",
      "['s' 'y' 'f' 'g']\n",
      "4 kategori\n",
      "------------------------\n",
      "cap-color:\n",
      "['n' 'y' 'w' 'g' 'e' 'p' 'b' 'u' 'c' 'r']\n",
      "10 kategori\n",
      "------------------------\n",
      "bruises:\n",
      "['t' 'f']\n",
      "2 kategori\n",
      "------------------------\n",
      "odor:\n",
      "['p' 'a' 'l' 'n' 'f' 'c' 'y' 's' 'm']\n",
      "9 kategori\n",
      "------------------------\n",
      "gill-attachment:\n",
      "['f' 'a']\n",
      "2 kategori\n",
      "------------------------\n",
      "gill-spacing:\n",
      "['c' 'w']\n",
      "2 kategori\n",
      "------------------------\n",
      "gill-size:\n",
      "['n' 'b']\n",
      "2 kategori\n",
      "------------------------\n",
      "gill-color:\n",
      "['k' 'n' 'g' 'p' 'w' 'h' 'u' 'e' 'b' 'r' 'y' 'o']\n",
      "12 kategori\n",
      "------------------------\n",
      "stalk-shape:\n",
      "['e' 't']\n",
      "2 kategori\n",
      "------------------------\n",
      "stalk-root:\n",
      "['e' 'c' 'b' 'r']\n",
      "4 kategori\n",
      "------------------------\n",
      "stalk-surface-above-ring:\n",
      "['s' 'f' 'k' 'y']\n",
      "4 kategori\n",
      "------------------------\n",
      "stalk-surface-below-ring:\n",
      "['s' 'f' 'y' 'k']\n",
      "4 kategori\n",
      "------------------------\n",
      "stalk-color-above-ring:\n",
      "['w' 'g' 'p' 'n' 'b' 'e' 'o' 'c' 'y']\n",
      "9 kategori\n",
      "------------------------\n",
      "stalk-color-below-ring:\n",
      "['w' 'p' 'g' 'b' 'n' 'e' 'y' 'o' 'c']\n",
      "9 kategori\n",
      "------------------------\n",
      "veil-type:\n",
      "['p']\n",
      "1 kategori\n",
      "------------------------\n",
      "veil-color:\n",
      "['w' 'n' 'o' 'y']\n",
      "4 kategori\n",
      "------------------------\n",
      "ring-number:\n",
      "['o' 't' 'n']\n",
      "3 kategori\n",
      "------------------------\n",
      "ring-type:\n",
      "['p' 'e' 'l' 'f' 'n']\n",
      "5 kategori\n",
      "------------------------\n",
      "spore-print-color:\n",
      "['k' 'n' 'u' 'h' 'w' 'r' 'o' 'y' 'b']\n",
      "9 kategori\n",
      "------------------------\n",
      "population:\n",
      "['s' 'n' 'a' 'v' 'y' 'c']\n",
      "6 kategori\n",
      "------------------------\n",
      "habitat:\n",
      "['u' 'g' 'm' 'd' 'p' 'w' 'l']\n",
      "7 kategori\n",
      "------------------------\n"
     ]
    }
   ],
   "source": [
    "for i in sutun_adi:\n",
    "    print(i + \":\")\n",
    "    print(data[f\"{i}\"].unique())\n",
    "    print(str(len(data[f\"{i}\"].unique())) + \" kategori\")\n",
    "    print(\"------------------------\")"
   ]
  },
  {
   "cell_type": "markdown",
   "id": "d8d03a12",
   "metadata": {},
   "source": [
    "* En çok gill-color değişkeninde farklı kategoriler var. \n",
    "\n",
    "* Değişkenlerin her birinin hangi bilgiyi içerdiğini inceleyelim:"
   ]
  },
  {
   "cell_type": "markdown",
   "id": "82cc4ea1",
   "metadata": {},
   "source": [
    "class: edible=e (yenilebilir), poisonous=p (zehirli) ***target değişken***\n",
    "\n",
    "cap-shape: bell=b,conical=c,convex=x,flat=f, knobbed=k,sunken=s ***başının şekli***\n",
    "\n",
    "cap-surface: fibrous=f,grooves=g,scaly=y,smooth=s ***başının dokusu***\n",
    "\n",
    "cap-color: brown=n,buff=b,cinnamon=c,gray=g,green=r, pink=p,purple=u,red=e,white=w,yellow=y\n",
    "\n",
    "bruises: bruises=t,no=f ***morluklar***\n",
    "\n",
    "odor: almond=a,anise=l,creosote=c,fishy=y,foul=f, musty=m,none=n,pungent=p,spicy=s ***koku***\n",
    "\n",
    "gill-attachment: attached=a,descending=d,free=f,notched=n ***solungaç eki***\n",
    "\n",
    "gill-spacing: close=c,crowded=w,distant=d ***solungaç aralığı***\n",
    "\n",
    "gill-size: broad=b,narrow=n ***solungaç boyutu***\n",
    "\n",
    "gill-color: black=k,brown=n,buff=b,chocolate=h,gray=g, green=r,orange=o,pink=p,purple=u,red=e, white=w,yellow=y ***solungaç rengi***\n",
    "\n",
    "stalk-shape: enlarging=e,tapering=t ***sap şekli***\n",
    "\n",
    "stalk-root: bulbous=b,club=c,cup=u,equal=e, rhizomorphs=z,rooted=r,missing=? ***sap kökü***\n",
    "\n",
    "stalk-surface-above-ring: fibrous=f,scaly=y,silky=k,smooth=s ***sap-yüzey-üstü-halka***\n",
    "\n",
    "stalk-surface-below-ring: fibrous=f,scaly=y,silky=k,smooth=s ***halka-alttaki sap-yüzey***\n",
    "\n",
    "stalk-color-above-ring: brown=n,buff=b,cinnamon=c,gray=g,orange=o, pink=p,red=e,white=w,yellow=y ***sap-renk-üstü-halka***\n",
    "\n",
    "stalk-color-below-ring: brown=n,buff=b,cinnamon=c,gray=g,orange=o, pink=p,red=e,white=w,yellow=y ***halka-renk altı***\n",
    "\n",
    "veil-type: partial=p,universal=u ***peçe-tipi***\n",
    "\n",
    "veil-color: brown=n,orange=o,white=w,yellow=y ***peçe rengi***\n",
    "\n",
    "ring-number: none=n,one=o,two=t ***zil numarası***\n",
    "\n",
    "ring-type: cobwebby=c,evanescent=e,flaring=f,large=l, none=n,pendant=p,sheathing=s,zone=z ***halka tipi***\n",
    "\n",
    "spore-print-color: black=k,brown=n,buff=b,chocolate=h,green=r, orange=o,purple=u,white=w,yellow=y ***spor-baskı-renk***\n",
    "\n",
    "population: abundant=a,clustered=c,numerous=n, scattered=s,several=v,solitary=y ***popülasyon***\n",
    "\n",
    "habitat: grasses=g,leaves=l,meadows=m,paths=p, urban=u,waste=w,woods=d ***habitat***"
   ]
  },
  {
   "cell_type": "markdown",
   "id": "ccf7c9bc",
   "metadata": {},
   "source": [
    "* Veriyi daha yakından tanımak ve grafik yorumlarken ihtiyaç halinde bakmak için değişkenlerin kategorilerinin frekanslarını veren kod for döngüsü ile her değişkenin adını ve value_counts() kodu ile frekansını veriyor."
   ]
  },
  {
   "cell_type": "code",
   "execution_count": 13,
   "id": "6403f433",
   "metadata": {},
   "outputs": [
    {
     "name": "stdout",
     "output_type": "stream",
     "text": [
      "class\n",
      "e    4208\n",
      "p    3916\n",
      "Name: class, dtype: int64\n",
      "toplam gözlem: 8124\n",
      "---------------\n",
      "cap-shape\n",
      "x    3656\n",
      "f    3152\n",
      "k     828\n",
      "b     452\n",
      "s      32\n",
      "c       4\n",
      "Name: cap-shape, dtype: int64\n",
      "toplam gözlem: 8124\n",
      "---------------\n",
      "cap-surface\n",
      "y    3244\n",
      "s    2556\n",
      "f    2320\n",
      "g       4\n",
      "Name: cap-surface, dtype: int64\n",
      "toplam gözlem: 8124\n",
      "---------------\n",
      "cap-color\n",
      "n    2284\n",
      "g    1840\n",
      "e    1500\n",
      "y    1072\n",
      "w    1040\n",
      "b     168\n",
      "p     144\n",
      "c      44\n",
      "u      16\n",
      "r      16\n",
      "Name: cap-color, dtype: int64\n",
      "toplam gözlem: 8124\n",
      "---------------\n",
      "bruises\n",
      "f    4748\n",
      "t    3376\n",
      "Name: bruises, dtype: int64\n",
      "toplam gözlem: 8124\n",
      "---------------\n",
      "odor\n",
      "n    3528\n",
      "f    2160\n",
      "y     576\n",
      "s     576\n",
      "a     400\n",
      "l     400\n",
      "p     256\n",
      "c     192\n",
      "m      36\n",
      "Name: odor, dtype: int64\n",
      "toplam gözlem: 8124\n",
      "---------------\n",
      "gill-attachment\n",
      "f    7914\n",
      "a     210\n",
      "Name: gill-attachment, dtype: int64\n",
      "toplam gözlem: 8124\n",
      "---------------\n",
      "gill-spacing\n",
      "c    6812\n",
      "w    1312\n",
      "Name: gill-spacing, dtype: int64\n",
      "toplam gözlem: 8124\n",
      "---------------\n",
      "gill-size\n",
      "b    5612\n",
      "n    2512\n",
      "Name: gill-size, dtype: int64\n",
      "toplam gözlem: 8124\n",
      "---------------\n",
      "gill-color\n",
      "b    1728\n",
      "p    1492\n",
      "w    1202\n",
      "n    1048\n",
      "g     752\n",
      "h     732\n",
      "u     492\n",
      "k     408\n",
      "e      96\n",
      "y      86\n",
      "o      64\n",
      "r      24\n",
      "Name: gill-color, dtype: int64\n",
      "toplam gözlem: 8124\n",
      "---------------\n",
      "stalk-shape\n",
      "t    4608\n",
      "e    3516\n",
      "Name: stalk-shape, dtype: int64\n",
      "toplam gözlem: 8124\n",
      "---------------\n",
      "stalk-root\n",
      "b    6256\n",
      "e    1120\n",
      "c     556\n",
      "r     192\n",
      "Name: stalk-root, dtype: int64\n",
      "toplam gözlem: 8124\n",
      "---------------\n",
      "stalk-surface-above-ring\n",
      "s    5176\n",
      "k    2372\n",
      "f     552\n",
      "y      24\n",
      "Name: stalk-surface-above-ring, dtype: int64\n",
      "toplam gözlem: 8124\n",
      "---------------\n",
      "stalk-surface-below-ring\n",
      "s    4936\n",
      "k    2304\n",
      "f     600\n",
      "y     284\n",
      "Name: stalk-surface-below-ring, dtype: int64\n",
      "toplam gözlem: 8124\n",
      "---------------\n",
      "stalk-color-above-ring\n",
      "w    4464\n",
      "p    1872\n",
      "g     576\n",
      "n     448\n",
      "b     432\n",
      "o     192\n",
      "e      96\n",
      "c      36\n",
      "y       8\n",
      "Name: stalk-color-above-ring, dtype: int64\n",
      "toplam gözlem: 8124\n",
      "---------------\n",
      "stalk-color-below-ring\n",
      "w    4384\n",
      "p    1872\n",
      "g     576\n",
      "n     512\n",
      "b     432\n",
      "o     192\n",
      "e      96\n",
      "c      36\n",
      "y      24\n",
      "Name: stalk-color-below-ring, dtype: int64\n",
      "toplam gözlem: 8124\n",
      "---------------\n",
      "veil-type\n",
      "p    8124\n",
      "Name: veil-type, dtype: int64\n",
      "toplam gözlem: 8124\n",
      "---------------\n",
      "veil-color\n",
      "w    7924\n",
      "o      96\n",
      "n      96\n",
      "y       8\n",
      "Name: veil-color, dtype: int64\n",
      "toplam gözlem: 8124\n",
      "---------------\n",
      "ring-number\n",
      "o    7488\n",
      "t     600\n",
      "n      36\n",
      "Name: ring-number, dtype: int64\n",
      "toplam gözlem: 8124\n",
      "---------------\n",
      "ring-type\n",
      "p    3968\n",
      "e    2776\n",
      "l    1296\n",
      "f      48\n",
      "n      36\n",
      "Name: ring-type, dtype: int64\n",
      "toplam gözlem: 8124\n",
      "---------------\n",
      "spore-print-color\n",
      "w    2388\n",
      "n    1968\n",
      "k    1872\n",
      "h    1632\n",
      "r      72\n",
      "o      48\n",
      "y      48\n",
      "u      48\n",
      "b      48\n",
      "Name: spore-print-color, dtype: int64\n",
      "toplam gözlem: 8124\n",
      "---------------\n",
      "population\n",
      "v    4040\n",
      "y    1712\n",
      "s    1248\n",
      "n     400\n",
      "a     384\n",
      "c     340\n",
      "Name: population, dtype: int64\n",
      "toplam gözlem: 8124\n",
      "---------------\n",
      "habitat\n",
      "d    3148\n",
      "g    2148\n",
      "p    1144\n",
      "l     832\n",
      "u     368\n",
      "m     292\n",
      "w     192\n",
      "Name: habitat, dtype: int64\n",
      "toplam gözlem: 8124\n",
      "---------------\n"
     ]
    }
   ],
   "source": [
    "for i in sutun_adi:\n",
    "    print(i)\n",
    "    print(data[f\"{i}\"].value_counts())\n",
    "    print(\"toplam gözlem: \" + str(len(data[f\"{i}\"])))\n",
    "    print(\"---------------\")"
   ]
  },
  {
   "cell_type": "markdown",
   "id": "b7eed087",
   "metadata": {},
   "source": [
    "#### Veri görselleştirme"
   ]
  },
  {
   "cell_type": "markdown",
   "id": "cb519f4f",
   "metadata": {},
   "source": [
    "* Veri görselleştirme aşamasında sütun grafiği için ve kırılımlı sütun grafiği (countplot) için Grafik adında bir class oluşturmayı tercih ettik. Bunun sebebi, ilerideki algoritmaları çalıştırdığımda bir değişkenin özelliklerini incelemek istersek hızlıca o değişkenin grafiğini elde edebilmek için.\n",
    "\n",
    "* Grafik class kodlarının açıklaması:\n",
    "\n",
    "    def __init__ ile Grafik classının çalışacağı datayı veriye veriyoruz.\n",
    "    \n",
    "    bar plot çizimi için bar fonksiyonu oluşturduk. Kullanıcıdan hangi değişkenin sütun grafiğini görmek istediğimizin bilgisini alıyoruz.\n",
    "    \n",
    "    Bu değişkenin kategorilerini .barh() fonksiyonu ile yatay eksende (h) bar plot olarak çizdirilmesini sağlıyoruz.\n",
    "\n",
    "    def countplot ile hue yani kırılıma sahip çubuk grafikler oluşturuyoruz. Burada her değişken için class değişkenini kırılım olarak kullancağız. Bölece değişkenlerin zehirli olanlarının ve yenilebilir olanların sayısına ulaşmış oluyoruz.\n",
    "    \n",
    "    edgecolor = (0,0,0) -> sütunların kenarlarının rengi, siyah olacak şekilde ayarladık.\n",
    "    \n",
    "    linewidth = 2 -> sütunların kenarlarındaki çizginin genişliği\n",
    "    \n",
    "    figsize -> grafiğimizi ön tanımlı boyutundan ziyade daha büyük ayarlamak için figür alanını büyüttük\n",
    "    \n",
    "    .annotate() -> sütunların üzerine tam değerlerini yazdıracak olan fonksiyon\n",
    "    \n",
    "    \n",
    "    \n",
    "    \n",
    "    "
   ]
  },
  {
   "cell_type": "code",
   "execution_count": 14,
   "id": "c149fff6",
   "metadata": {},
   "outputs": [],
   "source": [
    "class Grafik:\n",
    "    \n",
    "    def __init__(self,data):\n",
    "\n",
    "        self.data = data\n",
    "        \n",
    "    \n",
    "    def bar(self):\n",
    "        \n",
    "        self.degisken = []\n",
    "        degisken = input(\"Hangi değişkenin bar plotunu görmek istiyorsunuz?\")\n",
    "        \n",
    "        print(data[f\"{degisken}\"]\n",
    "              .value_counts()\n",
    "              .plot.barh()\n",
    "             .set_title(f\"{degisken} Değişkeninin Sınıf Frekansı\"))\n",
    "        \n",
    "    def countplot(self):\n",
    "        x = input(\"Hangi değişkenin zehirli olup olmadığının bilgisini görmek istiyorsunuz?\")\n",
    "        hue = data[\"class\"]\n",
    "        order = data[f\"{x}\"].value_counts().index\n",
    "        renkler = [\"red\",\"forestgreen\"]\n",
    "        edgecolor = (0,0,0)\n",
    "        linewidth = 2\n",
    "        labels = data[f\"{x}\"].unique()\n",
    "    \n",
    "        plt.figure(figsize=(15, 8))\n",
    "        splot = sns.countplot(data = data,\n",
    "                              x = x,\n",
    "                              hue = hue,\n",
    "                              order = order,\n",
    "                              palette = renkler,\n",
    "                              edgecolor= edgecolor,\n",
    "                              linewidth = linewidth)\n",
    "        for p in splot.patches:\n",
    "            splot.annotate(format(p.get_height(), '.1f'),\n",
    "                            (p.get_x() + p.get_width() / 2., p.get_height()),\n",
    "                            ha='center', va='center',\n",
    "                            xytext=(0, 9),\n",
    "                            textcoords='offset points')\n",
    "            \n",
    "        splot.set_xticklabels(labels)\n",
    "        plt.legend([\"Poisonous\",\"Edible\"], loc='upper right')\n",
    "        plt.ylabel('Number of the Mushrooms')\n",
    "        plt.xlabel(f'Types of the {x} of the Mushrooms')\n",
    "        plt.title(f'Distribution of the Mushrooms by their Classes and {x}')\n",
    "        plt.show()"
   ]
  },
  {
   "cell_type": "code",
   "execution_count": 15,
   "id": "3869fb44",
   "metadata": {},
   "outputs": [],
   "source": [
    "deneme = Grafik(data)"
   ]
  },
  {
   "cell_type": "code",
   "execution_count": 16,
   "id": "e6d97c04",
   "metadata": {},
   "outputs": [
    {
     "name": "stdout",
     "output_type": "stream",
     "text": [
      "Hangi değişkenin bar plotunu görmek istiyorsunuz?odor\n",
      "Text(0.5, 1.0, 'odor Değişkeninin Sınıf Frekansı')\n"
     ]
    },
    {
     "data": {
      "image/png": "[encoded data removed]",
      "text/plain": [
       "<Figure size 432x288 with 1 Axes>"
      ]
     },
     "metadata": {
      "needs_background": "light"
     },
     "output_type": "display_data"
    }
   ],
   "source": [
    "deneme.bar()"
   ]
  },
  {
   "cell_type": "code",
   "execution_count": 17,
   "id": "86bdfa35",
   "metadata": {
    "scrolled": true
   },
   "outputs": [
    {
     "name": "stdout",
     "output_type": "stream",
     "text": [
      "Hangi değişkenin zehirli olup olmadığının bilgisini görmek istiyorsunuz?odor\n"
     ]
    },
    {
     "data": {
      "image/png": "[encoded data removed]",
      "text/plain": [
       "<Figure size 1080x576 with 1 Axes>"
      ]
     },
     "metadata": {
      "needs_background": "light"
     },
     "output_type": "display_data"
    }
   ],
   "source": [
    "deneme.countplot()"
   ]
  },
  {
   "cell_type": "markdown",
   "id": "081f7f8b",
   "metadata": {},
   "source": [
    "### Veriyi modele hazırlama"
   ]
  },
  {
   "cell_type": "markdown",
   "id": "f1f0223d",
   "metadata": {},
   "source": [
    "* Makine öğrenmesi algoritmaları genel olarak integer tipindeki veri ile çalıştığı için veri setimizde dönüşümler yapmamız gerekiyor.\n",
    "\n",
    "* hedef değişkenimiz olan class değişkenimize label encoder uygulayarak 0 ve 1 değerlerini alan bir değişkene dönüştürdük.\n",
    "\n",
    "* kalan diğer tüm değişkenler bizim bağımsız değişkenlerimiz. Bu değişkenlerin her kategorisinin class değişkenini için etkisini görebilmemiz adına değişenlere one-hot-encoding methodu uygulayarak her değişkenin tek bir bilgiyi içerip dummy değişken tuzağından yani bir değişkenin farklı değerlerinden aynı anlamın çıkmasına neden olan durumu ortadan kaldırmış olduk."
   ]
  },
  {
   "cell_type": "code",
   "execution_count": 18,
   "id": "441cc628",
   "metadata": {},
   "outputs": [],
   "source": [
    "df = data.copy()"
   ]
  },
  {
   "cell_type": "markdown",
   "id": "2fb82e6f",
   "metadata": {},
   "source": [
    "* öncelikle hedef değişkenimiz olan class değişkenini label encoder ile kullanabileceğimiz hale getirip target adında yeni bir değişken ekleyerek class değişkenini silelim:"
   ]
  },
  {
   "cell_type": "code",
   "execution_count": 19,
   "id": "849a01f4",
   "metadata": {},
   "outputs": [
    {
     "data": {
      "text/html": [
       "<div>\n",
       "<style scoped>\n",
       "    .dataframe tbody tr th:only-of-type {\n",
       "        vertical-align: middle;\n",
       "    }\n",
       "\n",
       "    .dataframe tbody tr th {\n",
       "        vertical-align: top;\n",
       "    }\n",
       "\n",
       "    .dataframe thead th {\n",
       "        text-align: right;\n",
       "    }\n",
       "</style>\n",
       "<table border=\"1\" class=\"dataframe\">\n",
       "  <thead>\n",
       "    <tr style=\"text-align: right;\">\n",
       "      <th></th>\n",
       "      <th>cap-shape</th>\n",
       "      <th>cap-surface</th>\n",
       "      <th>cap-color</th>\n",
       "      <th>bruises</th>\n",
       "      <th>odor</th>\n",
       "      <th>gill-attachment</th>\n",
       "      <th>gill-spacing</th>\n",
       "      <th>gill-size</th>\n",
       "      <th>gill-color</th>\n",
       "      <th>stalk-shape</th>\n",
       "      <th>...</th>\n",
       "      <th>stalk-color-above-ring</th>\n",
       "      <th>stalk-color-below-ring</th>\n",
       "      <th>veil-type</th>\n",
       "      <th>veil-color</th>\n",
       "      <th>ring-number</th>\n",
       "      <th>ring-type</th>\n",
       "      <th>spore-print-color</th>\n",
       "      <th>population</th>\n",
       "      <th>habitat</th>\n",
       "      <th>target</th>\n",
       "    </tr>\n",
       "  </thead>\n",
       "  <tbody>\n",
       "    <tr>\n",
       "      <th>0</th>\n",
       "      <td>x</td>\n",
       "      <td>s</td>\n",
       "      <td>n</td>\n",
       "      <td>t</td>\n",
       "      <td>p</td>\n",
       "      <td>f</td>\n",
       "      <td>c</td>\n",
       "      <td>n</td>\n",
       "      <td>k</td>\n",
       "      <td>e</td>\n",
       "      <td>...</td>\n",
       "      <td>w</td>\n",
       "      <td>w</td>\n",
       "      <td>p</td>\n",
       "      <td>w</td>\n",
       "      <td>o</td>\n",
       "      <td>p</td>\n",
       "      <td>k</td>\n",
       "      <td>s</td>\n",
       "      <td>u</td>\n",
       "      <td>1</td>\n",
       "    </tr>\n",
       "    <tr>\n",
       "      <th>1</th>\n",
       "      <td>x</td>\n",
       "      <td>s</td>\n",
       "      <td>y</td>\n",
       "      <td>t</td>\n",
       "      <td>a</td>\n",
       "      <td>f</td>\n",
       "      <td>c</td>\n",
       "      <td>b</td>\n",
       "      <td>k</td>\n",
       "      <td>e</td>\n",
       "      <td>...</td>\n",
       "      <td>w</td>\n",
       "      <td>w</td>\n",
       "      <td>p</td>\n",
       "      <td>w</td>\n",
       "      <td>o</td>\n",
       "      <td>p</td>\n",
       "      <td>n</td>\n",
       "      <td>n</td>\n",
       "      <td>g</td>\n",
       "      <td>0</td>\n",
       "    </tr>\n",
       "    <tr>\n",
       "      <th>2</th>\n",
       "      <td>b</td>\n",
       "      <td>s</td>\n",
       "      <td>w</td>\n",
       "      <td>t</td>\n",
       "      <td>l</td>\n",
       "      <td>f</td>\n",
       "      <td>c</td>\n",
       "      <td>b</td>\n",
       "      <td>n</td>\n",
       "      <td>e</td>\n",
       "      <td>...</td>\n",
       "      <td>w</td>\n",
       "      <td>w</td>\n",
       "      <td>p</td>\n",
       "      <td>w</td>\n",
       "      <td>o</td>\n",
       "      <td>p</td>\n",
       "      <td>n</td>\n",
       "      <td>n</td>\n",
       "      <td>m</td>\n",
       "      <td>0</td>\n",
       "    </tr>\n",
       "    <tr>\n",
       "      <th>3</th>\n",
       "      <td>x</td>\n",
       "      <td>y</td>\n",
       "      <td>w</td>\n",
       "      <td>t</td>\n",
       "      <td>p</td>\n",
       "      <td>f</td>\n",
       "      <td>c</td>\n",
       "      <td>n</td>\n",
       "      <td>n</td>\n",
       "      <td>e</td>\n",
       "      <td>...</td>\n",
       "      <td>w</td>\n",
       "      <td>w</td>\n",
       "      <td>p</td>\n",
       "      <td>w</td>\n",
       "      <td>o</td>\n",
       "      <td>p</td>\n",
       "      <td>k</td>\n",
       "      <td>s</td>\n",
       "      <td>u</td>\n",
       "      <td>1</td>\n",
       "    </tr>\n",
       "    <tr>\n",
       "      <th>4</th>\n",
       "      <td>x</td>\n",
       "      <td>s</td>\n",
       "      <td>g</td>\n",
       "      <td>f</td>\n",
       "      <td>n</td>\n",
       "      <td>f</td>\n",
       "      <td>w</td>\n",
       "      <td>b</td>\n",
       "      <td>k</td>\n",
       "      <td>t</td>\n",
       "      <td>...</td>\n",
       "      <td>w</td>\n",
       "      <td>w</td>\n",
       "      <td>p</td>\n",
       "      <td>w</td>\n",
       "      <td>o</td>\n",
       "      <td>e</td>\n",
       "      <td>n</td>\n",
       "      <td>a</td>\n",
       "      <td>g</td>\n",
       "      <td>0</td>\n",
       "    </tr>\n",
       "    <tr>\n",
       "      <th>...</th>\n",
       "      <td>...</td>\n",
       "      <td>...</td>\n",
       "      <td>...</td>\n",
       "      <td>...</td>\n",
       "      <td>...</td>\n",
       "      <td>...</td>\n",
       "      <td>...</td>\n",
       "      <td>...</td>\n",
       "      <td>...</td>\n",
       "      <td>...</td>\n",
       "      <td>...</td>\n",
       "      <td>...</td>\n",
       "      <td>...</td>\n",
       "      <td>...</td>\n",
       "      <td>...</td>\n",
       "      <td>...</td>\n",
       "      <td>...</td>\n",
       "      <td>...</td>\n",
       "      <td>...</td>\n",
       "      <td>...</td>\n",
       "      <td>...</td>\n",
       "    </tr>\n",
       "    <tr>\n",
       "      <th>8119</th>\n",
       "      <td>k</td>\n",
       "      <td>s</td>\n",
       "      <td>n</td>\n",
       "      <td>f</td>\n",
       "      <td>n</td>\n",
       "      <td>a</td>\n",
       "      <td>c</td>\n",
       "      <td>b</td>\n",
       "      <td>y</td>\n",
       "      <td>e</td>\n",
       "      <td>...</td>\n",
       "      <td>o</td>\n",
       "      <td>o</td>\n",
       "      <td>p</td>\n",
       "      <td>o</td>\n",
       "      <td>o</td>\n",
       "      <td>p</td>\n",
       "      <td>b</td>\n",
       "      <td>c</td>\n",
       "      <td>l</td>\n",
       "      <td>0</td>\n",
       "    </tr>\n",
       "    <tr>\n",
       "      <th>8120</th>\n",
       "      <td>x</td>\n",
       "      <td>s</td>\n",
       "      <td>n</td>\n",
       "      <td>f</td>\n",
       "      <td>n</td>\n",
       "      <td>a</td>\n",
       "      <td>c</td>\n",
       "      <td>b</td>\n",
       "      <td>y</td>\n",
       "      <td>e</td>\n",
       "      <td>...</td>\n",
       "      <td>o</td>\n",
       "      <td>o</td>\n",
       "      <td>p</td>\n",
       "      <td>n</td>\n",
       "      <td>o</td>\n",
       "      <td>p</td>\n",
       "      <td>b</td>\n",
       "      <td>v</td>\n",
       "      <td>l</td>\n",
       "      <td>0</td>\n",
       "    </tr>\n",
       "    <tr>\n",
       "      <th>8121</th>\n",
       "      <td>f</td>\n",
       "      <td>s</td>\n",
       "      <td>n</td>\n",
       "      <td>f</td>\n",
       "      <td>n</td>\n",
       "      <td>a</td>\n",
       "      <td>c</td>\n",
       "      <td>b</td>\n",
       "      <td>n</td>\n",
       "      <td>e</td>\n",
       "      <td>...</td>\n",
       "      <td>o</td>\n",
       "      <td>o</td>\n",
       "      <td>p</td>\n",
       "      <td>o</td>\n",
       "      <td>o</td>\n",
       "      <td>p</td>\n",
       "      <td>b</td>\n",
       "      <td>c</td>\n",
       "      <td>l</td>\n",
       "      <td>0</td>\n",
       "    </tr>\n",
       "    <tr>\n",
       "      <th>8122</th>\n",
       "      <td>k</td>\n",
       "      <td>y</td>\n",
       "      <td>n</td>\n",
       "      <td>f</td>\n",
       "      <td>y</td>\n",
       "      <td>f</td>\n",
       "      <td>c</td>\n",
       "      <td>n</td>\n",
       "      <td>b</td>\n",
       "      <td>t</td>\n",
       "      <td>...</td>\n",
       "      <td>w</td>\n",
       "      <td>w</td>\n",
       "      <td>p</td>\n",
       "      <td>w</td>\n",
       "      <td>o</td>\n",
       "      <td>e</td>\n",
       "      <td>w</td>\n",
       "      <td>v</td>\n",
       "      <td>l</td>\n",
       "      <td>1</td>\n",
       "    </tr>\n",
       "    <tr>\n",
       "      <th>8123</th>\n",
       "      <td>x</td>\n",
       "      <td>s</td>\n",
       "      <td>n</td>\n",
       "      <td>f</td>\n",
       "      <td>n</td>\n",
       "      <td>a</td>\n",
       "      <td>c</td>\n",
       "      <td>b</td>\n",
       "      <td>y</td>\n",
       "      <td>e</td>\n",
       "      <td>...</td>\n",
       "      <td>o</td>\n",
       "      <td>o</td>\n",
       "      <td>p</td>\n",
       "      <td>o</td>\n",
       "      <td>o</td>\n",
       "      <td>p</td>\n",
       "      <td>o</td>\n",
       "      <td>c</td>\n",
       "      <td>l</td>\n",
       "      <td>0</td>\n",
       "    </tr>\n",
       "  </tbody>\n",
       "</table>\n",
       "<p>8124 rows × 23 columns</p>\n",
       "</div>"
      ],
      "text/plain": [
       "     cap-shape cap-surface cap-color bruises odor gill-attachment  \\\n",
       "0            x           s         n       t    p               f   \n",
       "1            x           s         y       t    a               f   \n",
       "2            b           s         w       t    l               f   \n",
       "3            x           y         w       t    p               f   \n",
       "4            x           s         g       f    n               f   \n",
       "...        ...         ...       ...     ...  ...             ...   \n",
       "8119         k           s         n       f    n               a   \n",
       "8120         x           s         n       f    n               a   \n",
       "8121         f           s         n       f    n               a   \n",
       "8122         k           y         n       f    y               f   \n",
       "8123         x           s         n       f    n               a   \n",
       "\n",
       "     gill-spacing gill-size gill-color stalk-shape  ...  \\\n",
       "0               c         n          k           e  ...   \n",
       "1               c         b          k           e  ...   \n",
       "2               c         b          n           e  ...   \n",
       "3               c         n          n           e  ...   \n",
       "4               w         b          k           t  ...   \n",
       "...           ...       ...        ...         ...  ...   \n",
       "8119            c         b          y           e  ...   \n",
       "8120            c         b          y           e  ...   \n",
       "8121            c         b          n           e  ...   \n",
       "8122            c         n          b           t  ...   \n",
       "8123            c         b          y           e  ...   \n",
       "\n",
       "     stalk-color-above-ring stalk-color-below-ring veil-type veil-color  \\\n",
       "0                         w                      w         p          w   \n",
       "1                         w                      w         p          w   \n",
       "2                         w                      w         p          w   \n",
       "3                         w                      w         p          w   \n",
       "4                         w                      w         p          w   \n",
       "...                     ...                    ...       ...        ...   \n",
       "8119                      o                      o         p          o   \n",
       "8120                      o                      o         p          n   \n",
       "8121                      o                      o         p          o   \n",
       "8122                      w                      w         p          w   \n",
       "8123                      o                      o         p          o   \n",
       "\n",
       "     ring-number ring-type spore-print-color population habitat target  \n",
       "0              o         p                 k          s       u      1  \n",
       "1              o         p                 n          n       g      0  \n",
       "2              o         p                 n          n       m      0  \n",
       "3              o         p                 k          s       u      1  \n",
       "4              o         e                 n          a       g      0  \n",
       "...          ...       ...               ...        ...     ...    ...  \n",
       "8119           o         p                 b          c       l      0  \n",
       "8120           o         p                 b          v       l      0  \n",
       "8121           o         p                 b          c       l      0  \n",
       "8122           o         e                 w          v       l      1  \n",
       "8123           o         p                 o          c       l      0  \n",
       "\n",
       "[8124 rows x 23 columns]"
      ]
     },
     "execution_count": 19,
     "metadata": {},
     "output_type": "execute_result"
    }
   ],
   "source": [
    "from sklearn.preprocessing import LabelEncoder\n",
    "\n",
    "lbe = LabelEncoder()\n",
    "\n",
    "df[\"target\"] = lbe.fit_transform(df[\"class\"])\n",
    "\n",
    "del df[\"class\"]\n",
    "\n",
    "df"
   ]
  },
  {
   "cell_type": "markdown",
   "id": "63d8e283",
   "metadata": {},
   "source": [
    "* p = 1 ve e = 0 oldu"
   ]
  },
  {
   "cell_type": "markdown",
   "id": "b6f5bb9a",
   "metadata": {},
   "source": [
    "* kalan bağımsız değişkenlerimize one-hot-encoding uygulayalım:"
   ]
  },
  {
   "cell_type": "code",
   "execution_count": 20,
   "id": "11c5cafb",
   "metadata": {},
   "outputs": [
    {
     "data": {
      "text/plain": [
       "(23,\n",
       " Index(['cap-shape', 'cap-surface', 'cap-color', 'bruises', 'odor',\n",
       "        'gill-attachment', 'gill-spacing', 'gill-size', 'gill-color',\n",
       "        'stalk-shape', 'stalk-root', 'stalk-surface-above-ring',\n",
       "        'stalk-surface-below-ring', 'stalk-color-above-ring',\n",
       "        'stalk-color-below-ring', 'veil-type', 'veil-color', 'ring-number',\n",
       "        'ring-type', 'spore-print-color', 'population', 'habitat', 'target'],\n",
       "       dtype='object'))"
      ]
     },
     "execution_count": 20,
     "metadata": {},
     "output_type": "execute_result"
    }
   ],
   "source": [
    "newsutun_adi = df.columns\n",
    "\n",
    "len(newsutun_adi), newsutun_adi"
   ]
  },
  {
   "cell_type": "code",
   "execution_count": 21,
   "id": "18448bbc",
   "metadata": {},
   "outputs": [
    {
     "data": {
      "text/plain": [
       "(22,\n",
       " Index(['cap-shape', 'cap-surface', 'cap-color', 'bruises', 'odor',\n",
       "        'gill-attachment', 'gill-spacing', 'gill-size', 'gill-color',\n",
       "        'stalk-shape', 'stalk-root', 'stalk-surface-above-ring',\n",
       "        'stalk-surface-below-ring', 'stalk-color-above-ring',\n",
       "        'stalk-color-below-ring', 'veil-type', 'veil-color', 'ring-number',\n",
       "        'ring-type', 'spore-print-color', 'population', 'habitat'],\n",
       "       dtype='object'))"
      ]
     },
     "execution_count": 21,
     "metadata": {},
     "output_type": "execute_result"
    }
   ],
   "source": [
    "TrSutunAdi = newsutun_adi[:-1] # target değişkenini bağımsız değişkenlerden ayırdık\n",
    "\n",
    "len(TrSutunAdi), TrSutunAdi"
   ]
  },
  {
   "cell_type": "markdown",
   "id": "24293a9e",
   "metadata": {},
   "source": [
    "* Oluşan yeni değişkenlerin isimlendirilmesinde kategorinin adını temsil eden son eki eklemek için kullanılan parametre ayarı."
   ]
  },
  {
   "cell_type": "code",
   "execution_count": 22,
   "id": "1333b56a",
   "metadata": {},
   "outputs": [
    {
     "data": {
      "text/html": [
       "<div>\n",
       "<style scoped>\n",
       "    .dataframe tbody tr th:only-of-type {\n",
       "        vertical-align: middle;\n",
       "    }\n",
       "\n",
       "    .dataframe tbody tr th {\n",
       "        vertical-align: top;\n",
       "    }\n",
       "\n",
       "    .dataframe thead th {\n",
       "        text-align: right;\n",
       "    }\n",
       "</style>\n",
       "<table border=\"1\" class=\"dataframe\">\n",
       "  <thead>\n",
       "    <tr style=\"text-align: right;\">\n",
       "      <th></th>\n",
       "      <th>target</th>\n",
       "      <th>cap-shape_b</th>\n",
       "      <th>cap-shape_c</th>\n",
       "      <th>cap-shape_f</th>\n",
       "      <th>cap-shape_k</th>\n",
       "      <th>cap-shape_s</th>\n",
       "      <th>cap-shape_x</th>\n",
       "      <th>cap-surface_f</th>\n",
       "      <th>cap-surface_g</th>\n",
       "      <th>cap-surface_s</th>\n",
       "      <th>...</th>\n",
       "      <th>population_s</th>\n",
       "      <th>population_v</th>\n",
       "      <th>population_y</th>\n",
       "      <th>habitat_d</th>\n",
       "      <th>habitat_g</th>\n",
       "      <th>habitat_l</th>\n",
       "      <th>habitat_m</th>\n",
       "      <th>habitat_p</th>\n",
       "      <th>habitat_u</th>\n",
       "      <th>habitat_w</th>\n",
       "    </tr>\n",
       "  </thead>\n",
       "  <tbody>\n",
       "    <tr>\n",
       "      <th>0</th>\n",
       "      <td>1</td>\n",
       "      <td>0</td>\n",
       "      <td>0</td>\n",
       "      <td>0</td>\n",
       "      <td>0</td>\n",
       "      <td>0</td>\n",
       "      <td>1</td>\n",
       "      <td>0</td>\n",
       "      <td>0</td>\n",
       "      <td>1</td>\n",
       "      <td>...</td>\n",
       "      <td>1</td>\n",
       "      <td>0</td>\n",
       "      <td>0</td>\n",
       "      <td>0</td>\n",
       "      <td>0</td>\n",
       "      <td>0</td>\n",
       "      <td>0</td>\n",
       "      <td>0</td>\n",
       "      <td>1</td>\n",
       "      <td>0</td>\n",
       "    </tr>\n",
       "    <tr>\n",
       "      <th>1</th>\n",
       "      <td>0</td>\n",
       "      <td>0</td>\n",
       "      <td>0</td>\n",
       "      <td>0</td>\n",
       "      <td>0</td>\n",
       "      <td>0</td>\n",
       "      <td>1</td>\n",
       "      <td>0</td>\n",
       "      <td>0</td>\n",
       "      <td>1</td>\n",
       "      <td>...</td>\n",
       "      <td>0</td>\n",
       "      <td>0</td>\n",
       "      <td>0</td>\n",
       "      <td>0</td>\n",
       "      <td>1</td>\n",
       "      <td>0</td>\n",
       "      <td>0</td>\n",
       "      <td>0</td>\n",
       "      <td>0</td>\n",
       "      <td>0</td>\n",
       "    </tr>\n",
       "    <tr>\n",
       "      <th>2</th>\n",
       "      <td>0</td>\n",
       "      <td>1</td>\n",
       "      <td>0</td>\n",
       "      <td>0</td>\n",
       "      <td>0</td>\n",
       "      <td>0</td>\n",
       "      <td>0</td>\n",
       "      <td>0</td>\n",
       "      <td>0</td>\n",
       "      <td>1</td>\n",
       "      <td>...</td>\n",
       "      <td>0</td>\n",
       "      <td>0</td>\n",
       "      <td>0</td>\n",
       "      <td>0</td>\n",
       "      <td>0</td>\n",
       "      <td>0</td>\n",
       "      <td>1</td>\n",
       "      <td>0</td>\n",
       "      <td>0</td>\n",
       "      <td>0</td>\n",
       "    </tr>\n",
       "    <tr>\n",
       "      <th>3</th>\n",
       "      <td>1</td>\n",
       "      <td>0</td>\n",
       "      <td>0</td>\n",
       "      <td>0</td>\n",
       "      <td>0</td>\n",
       "      <td>0</td>\n",
       "      <td>1</td>\n",
       "      <td>0</td>\n",
       "      <td>0</td>\n",
       "      <td>0</td>\n",
       "      <td>...</td>\n",
       "      <td>1</td>\n",
       "      <td>0</td>\n",
       "      <td>0</td>\n",
       "      <td>0</td>\n",
       "      <td>0</td>\n",
       "      <td>0</td>\n",
       "      <td>0</td>\n",
       "      <td>0</td>\n",
       "      <td>1</td>\n",
       "      <td>0</td>\n",
       "    </tr>\n",
       "    <tr>\n",
       "      <th>4</th>\n",
       "      <td>0</td>\n",
       "      <td>0</td>\n",
       "      <td>0</td>\n",
       "      <td>0</td>\n",
       "      <td>0</td>\n",
       "      <td>0</td>\n",
       "      <td>1</td>\n",
       "      <td>0</td>\n",
       "      <td>0</td>\n",
       "      <td>1</td>\n",
       "      <td>...</td>\n",
       "      <td>0</td>\n",
       "      <td>0</td>\n",
       "      <td>0</td>\n",
       "      <td>0</td>\n",
       "      <td>1</td>\n",
       "      <td>0</td>\n",
       "      <td>0</td>\n",
       "      <td>0</td>\n",
       "      <td>0</td>\n",
       "      <td>0</td>\n",
       "    </tr>\n",
       "    <tr>\n",
       "      <th>...</th>\n",
       "      <td>...</td>\n",
       "      <td>...</td>\n",
       "      <td>...</td>\n",
       "      <td>...</td>\n",
       "      <td>...</td>\n",
       "      <td>...</td>\n",
       "      <td>...</td>\n",
       "      <td>...</td>\n",
       "      <td>...</td>\n",
       "      <td>...</td>\n",
       "      <td>...</td>\n",
       "      <td>...</td>\n",
       "      <td>...</td>\n",
       "      <td>...</td>\n",
       "      <td>...</td>\n",
       "      <td>...</td>\n",
       "      <td>...</td>\n",
       "      <td>...</td>\n",
       "      <td>...</td>\n",
       "      <td>...</td>\n",
       "      <td>...</td>\n",
       "    </tr>\n",
       "    <tr>\n",
       "      <th>8119</th>\n",
       "      <td>0</td>\n",
       "      <td>0</td>\n",
       "      <td>0</td>\n",
       "      <td>0</td>\n",
       "      <td>1</td>\n",
       "      <td>0</td>\n",
       "      <td>0</td>\n",
       "      <td>0</td>\n",
       "      <td>0</td>\n",
       "      <td>1</td>\n",
       "      <td>...</td>\n",
       "      <td>0</td>\n",
       "      <td>0</td>\n",
       "      <td>0</td>\n",
       "      <td>0</td>\n",
       "      <td>0</td>\n",
       "      <td>1</td>\n",
       "      <td>0</td>\n",
       "      <td>0</td>\n",
       "      <td>0</td>\n",
       "      <td>0</td>\n",
       "    </tr>\n",
       "    <tr>\n",
       "      <th>8120</th>\n",
       "      <td>0</td>\n",
       "      <td>0</td>\n",
       "      <td>0</td>\n",
       "      <td>0</td>\n",
       "      <td>0</td>\n",
       "      <td>0</td>\n",
       "      <td>1</td>\n",
       "      <td>0</td>\n",
       "      <td>0</td>\n",
       "      <td>1</td>\n",
       "      <td>...</td>\n",
       "      <td>0</td>\n",
       "      <td>1</td>\n",
       "      <td>0</td>\n",
       "      <td>0</td>\n",
       "      <td>0</td>\n",
       "      <td>1</td>\n",
       "      <td>0</td>\n",
       "      <td>0</td>\n",
       "      <td>0</td>\n",
       "      <td>0</td>\n",
       "    </tr>\n",
       "    <tr>\n",
       "      <th>8121</th>\n",
       "      <td>0</td>\n",
       "      <td>0</td>\n",
       "      <td>0</td>\n",
       "      <td>1</td>\n",
       "      <td>0</td>\n",
       "      <td>0</td>\n",
       "      <td>0</td>\n",
       "      <td>0</td>\n",
       "      <td>0</td>\n",
       "      <td>1</td>\n",
       "      <td>...</td>\n",
       "      <td>0</td>\n",
       "      <td>0</td>\n",
       "      <td>0</td>\n",
       "      <td>0</td>\n",
       "      <td>0</td>\n",
       "      <td>1</td>\n",
       "      <td>0</td>\n",
       "      <td>0</td>\n",
       "      <td>0</td>\n",
       "      <td>0</td>\n",
       "    </tr>\n",
       "    <tr>\n",
       "      <th>8122</th>\n",
       "      <td>1</td>\n",
       "      <td>0</td>\n",
       "      <td>0</td>\n",
       "      <td>0</td>\n",
       "      <td>1</td>\n",
       "      <td>0</td>\n",
       "      <td>0</td>\n",
       "      <td>0</td>\n",
       "      <td>0</td>\n",
       "      <td>0</td>\n",
       "      <td>...</td>\n",
       "      <td>0</td>\n",
       "      <td>1</td>\n",
       "      <td>0</td>\n",
       "      <td>0</td>\n",
       "      <td>0</td>\n",
       "      <td>1</td>\n",
       "      <td>0</td>\n",
       "      <td>0</td>\n",
       "      <td>0</td>\n",
       "      <td>0</td>\n",
       "    </tr>\n",
       "    <tr>\n",
       "      <th>8123</th>\n",
       "      <td>0</td>\n",
       "      <td>0</td>\n",
       "      <td>0</td>\n",
       "      <td>0</td>\n",
       "      <td>0</td>\n",
       "      <td>0</td>\n",
       "      <td>1</td>\n",
       "      <td>0</td>\n",
       "      <td>0</td>\n",
       "      <td>1</td>\n",
       "      <td>...</td>\n",
       "      <td>0</td>\n",
       "      <td>0</td>\n",
       "      <td>0</td>\n",
       "      <td>0</td>\n",
       "      <td>0</td>\n",
       "      <td>1</td>\n",
       "      <td>0</td>\n",
       "      <td>0</td>\n",
       "      <td>0</td>\n",
       "      <td>0</td>\n",
       "    </tr>\n",
       "  </tbody>\n",
       "</table>\n",
       "<p>8124 rows × 117 columns</p>\n",
       "</div>"
      ],
      "text/plain": [
       "      target  cap-shape_b  cap-shape_c  cap-shape_f  cap-shape_k  cap-shape_s  \\\n",
       "0          1            0            0            0            0            0   \n",
       "1          0            0            0            0            0            0   \n",
       "2          0            1            0            0            0            0   \n",
       "3          1            0            0            0            0            0   \n",
       "4          0            0            0            0            0            0   \n",
       "...      ...          ...          ...          ...          ...          ...   \n",
       "8119       0            0            0            0            1            0   \n",
       "8120       0            0            0            0            0            0   \n",
       "8121       0            0            0            1            0            0   \n",
       "8122       1            0            0            0            1            0   \n",
       "8123       0            0            0            0            0            0   \n",
       "\n",
       "      cap-shape_x  cap-surface_f  cap-surface_g  cap-surface_s  ...  \\\n",
       "0               1              0              0              1  ...   \n",
       "1               1              0              0              1  ...   \n",
       "2               0              0              0              1  ...   \n",
       "3               1              0              0              0  ...   \n",
       "4               1              0              0              1  ...   \n",
       "...           ...            ...            ...            ...  ...   \n",
       "8119            0              0              0              1  ...   \n",
       "8120            1              0              0              1  ...   \n",
       "8121            0              0              0              1  ...   \n",
       "8122            0              0              0              0  ...   \n",
       "8123            1              0              0              1  ...   \n",
       "\n",
       "      population_s  population_v  population_y  habitat_d  habitat_g  \\\n",
       "0                1             0             0          0          0   \n",
       "1                0             0             0          0          1   \n",
       "2                0             0             0          0          0   \n",
       "3                1             0             0          0          0   \n",
       "4                0             0             0          0          1   \n",
       "...            ...           ...           ...        ...        ...   \n",
       "8119             0             0             0          0          0   \n",
       "8120             0             1             0          0          0   \n",
       "8121             0             0             0          0          0   \n",
       "8122             0             1             0          0          0   \n",
       "8123             0             0             0          0          0   \n",
       "\n",
       "      habitat_l  habitat_m  habitat_p  habitat_u  habitat_w  \n",
       "0             0          0          0          1          0  \n",
       "1             0          0          0          0          0  \n",
       "2             0          1          0          0          0  \n",
       "3             0          0          0          1          0  \n",
       "4             0          0          0          0          0  \n",
       "...         ...        ...        ...        ...        ...  \n",
       "8119          1          0          0          0          0  \n",
       "8120          1          0          0          0          0  \n",
       "8121          1          0          0          0          0  \n",
       "8122          1          0          0          0          0  \n",
       "8123          1          0          0          0          0  \n",
       "\n",
       "[8124 rows x 117 columns]"
      ]
     },
     "execution_count": 22,
     "metadata": {},
     "output_type": "execute_result"
    }
   ],
   "source": [
    "for i in newsutun_adi:\n",
    "    if i == \"target\":\n",
    "        break\n",
    "    else:\n",
    "        df = pd.get_dummies(df, columns = [f\"{i}\"], prefix = [f\"{i}\"])    \n",
    "df"
   ]
  },
  {
   "cell_type": "markdown",
   "id": "484a8125",
   "metadata": {},
   "source": [
    "* tüm değişkenlerimize dönüşüm işlemini uyguladık\n",
    "\n",
    "* 117 sütunumuz oldu\n",
    "\n",
    "* şimdi verimizi eğitim ve test olarak bölelim:"
   ]
  },
  {
   "cell_type": "code",
   "execution_count": 23,
   "id": "97b56822",
   "metadata": {},
   "outputs": [],
   "source": [
    "x = df.iloc[:,1:] # bağımsız değişkenler\n",
    "y = df.iloc[:,0:1] # bağımlı değişken (target)"
   ]
  },
  {
   "cell_type": "code",
   "execution_count": 24,
   "id": "b86f70a3",
   "metadata": {},
   "outputs": [],
   "source": [
    "from sklearn.model_selection import train_test_split\n",
    "\n",
    "x_train, x_test,y_train,y_test = train_test_split(x,y,test_size=0.33, random_state=0)"
   ]
  },
  {
   "cell_type": "markdown",
   "id": "64c3007b",
   "metadata": {},
   "source": [
    "* test_size=0.33 -> Veri setinin %67' si eğitim verisi olarak, kalan %33' ü de test verisi olarak kullanulacak"
   ]
  },
  {
   "cell_type": "markdown",
   "id": "54348e90",
   "metadata": {},
   "source": [
    "* Bazı algoritmalar ölçeklendirilmiş (aynı evrene indirgenmiş) veri ile çalıştığı için verimizin ölçeklenmiş halini de oluşturalım:"
   ]
  },
  {
   "cell_type": "code",
   "execution_count": 25,
   "id": "8eb06918",
   "metadata": {},
   "outputs": [],
   "source": [
    "from sklearn.preprocessing import StandardScaler \n",
    "\n",
    "sc = StandardScaler()\n",
    "X_train_sc = sc.fit_transform(x_train)\n",
    "X_test_sc = sc.fit_transform(x_test)"
   ]
  },
  {
   "cell_type": "markdown",
   "id": "901d7a36",
   "metadata": {},
   "source": [
    "### Model"
   ]
  },
  {
   "cell_type": "code",
   "execution_count": 26,
   "id": "5e48ba05",
   "metadata": {},
   "outputs": [],
   "source": [
    "from sklearn.metrics import confusion_matrix\n",
    "from sklearn.model_selection import cross_val_score\n",
    "from sklearn import metrics"
   ]
  },
  {
   "cell_type": "markdown",
   "id": "03dcc1cb",
   "metadata": {},
   "source": [
    "#### 1. SVM Sınıflandırma"
   ]
  },
  {
   "cell_type": "markdown",
   "id": "b2fb36fe",
   "metadata": {},
   "source": [
    "* SVM algoritması class değişkeni p olan sınıflar ve e olan sınıflar birbirinden ayrılacak şekilde bir marjin alanı oluşturacaktır.\n",
    "\n",
    "* Sonuçta eğitim verilerimiz svc algoritmasıyla eğitildikten sonra eğitim verilerimiz için bu algoritmayı çalıştırıyoruz ve model bu yeni gözlemler için marjinin ayırdığı \"p\" bölgesine mi yoksa \"e\" bölgesine mi düştüğüne bakarak sınıflandırma yapıyor."
   ]
  },
  {
   "cell_type": "code",
   "execution_count": 27,
   "id": "85e67a34",
   "metadata": {},
   "outputs": [],
   "source": [
    "from sklearn.metrics import accuracy_score"
   ]
  },
  {
   "cell_type": "code",
   "execution_count": 28,
   "id": "e9e61713",
   "metadata": {},
   "outputs": [
    {
     "name": "stdout",
     "output_type": "stream",
     "text": [
      "SVC\n",
      "[[1406    0]\n",
      " [   0 1275]]\n"
     ]
    }
   ],
   "source": [
    "from sklearn.svm import SVC\n",
    "svc = SVC() # SVC algoritmasını kullanmamızı sağlayacak değişkeni oluşturduk\n",
    "svc.fit(x_train,y_train) # eğitim verilerimizi kullanarak modeli kurduk (eğittik)\n",
    "\n",
    "y_pred = svc.predict(x_test) # eğtilmiş modeli kullanarak yeni gözlemler için tahmin yapmayı sağlayan kod.\n",
    "\n",
    "cm = confusion_matrix(y_test,y_pred) # gerçek test verileri ile tahmini yapılan verileri karşılaştırmak için cm oluşturduk\n",
    "print('SVC')\n",
    "print(cm)"
   ]
  },
  {
   "cell_type": "markdown",
   "id": "05ca3504",
   "metadata": {},
   "source": [
    "* Verilerin hepsi doğru sınıflandırılmışır."
   ]
  },
  {
   "cell_type": "code",
   "execution_count": 29,
   "id": "f80befba",
   "metadata": {},
   "outputs": [
    {
     "data": {
      "text/plain": [
       "1.0"
      ]
     },
     "execution_count": 29,
     "metadata": {},
     "output_type": "execute_result"
    }
   ],
   "source": [
    "accuracy_score(y_test, y_pred)"
   ]
  },
  {
   "cell_type": "markdown",
   "id": "2ff66888",
   "metadata": {},
   "source": [
    "* SVM algoritması ile test edilmiş verimiz bütün tahminlerini doğru yapmıştır."
   ]
  },
  {
   "cell_type": "markdown",
   "id": "e787ab8f",
   "metadata": {},
   "source": [
    "* cross validation yöntemi ile modelimizi doğrulayalım:\n",
    "\n",
    "Cross-validation, makine öğrenmesi modelinin görmediği veriler üzerindeki performansını mümkün olduğunca objektif ve doğru bir şekilde değerlendirmek için kullanılan istatistiksel bir yeniden örnekleme(resampling) yöntemidir.\n",
    "\n",
    "örneğin : k katlı bir cross-validation uygulandığında farklı bölünmeler için farklı accuracy skorları elde ederiz."
   ]
  },
  {
   "cell_type": "code",
   "execution_count": 30,
   "id": "117da85e",
   "metadata": {},
   "outputs": [
    {
     "data": {
      "text/plain": [
       "(array([0.51515152, 1.        , 1.        , 1.        , 1.        ,\n",
       "        1.        , 1.        , 1.        , 0.89269406, 1.        ]),\n",
       " 0.9407845579078457)"
      ]
     },
     "execution_count": 30,
     "metadata": {},
     "output_type": "execute_result"
    }
   ],
   "source": [
    "scores = cross_val_score(svc, x, y, cv=10, scoring='f1')\n",
    "scores,scores.mean()"
   ]
  },
  {
   "cell_type": "markdown",
   "id": "26ae981a",
   "metadata": {},
   "source": [
    "cross_val_score fonksiyonunun\n",
    "\n",
    "1. argümanı : modelimiz\n",
    "\n",
    "2. argümanı : Bu model içine yerleştirilmek istenen bağımsız değişken seti\n",
    "\n",
    "3. argümanı : Bu model sonucunda ortaya çıkacak olan tahmini bağımlı değişkenleri karşılaştrımak istediğimiz y değerleri\n",
    "\n",
    "4. argüman : cross validation ı kaç katlı yapacağımız\n",
    "\n",
    "hesapladığımız çapraz doğrulama değerlerinin ortalaması, kurduğumuz modelin doğruluğunu gösteren değerdir."
   ]
  },
  {
   "cell_type": "markdown",
   "id": "e62c579e",
   "metadata": {},
   "source": [
    "#### 2.KNN Sınıflandırma"
   ]
  },
  {
   "cell_type": "markdown",
   "id": "5ae2811a",
   "metadata": {},
   "source": [
    "* Sınıflandırmada (classification) kullanılan bu algoritmaya göre sınıflandırma sırasında çıkarılan özelliklerden (feature extraction), sınıflandırılmak istenen yeni bireyin daha önceki bireylerden k tanesine yakınlığına bakılmasıdır.\n",
    "\n",
    "* Örneğin k = 2 için yeni bir eleman sınıflandırılmak istensin. bu durumda eski sınıflandırılmış elemanlardan en yakın 2 tanesi alınır. Bu elamanlar hangi sınıfa dahilse, yeni eleman da o sınıfa dahil edilir. Mesafe hesabından genelde öklit mesafesi (euclid distance) kullanılabilir.\n",
    "\n",
    "* biz de euclidean metriğini kullanacaz. Şöyle hesaplanır: \tsqrt(sum((x - y)^2))\n",
    "\n",
    "* Çeşitli KNN algoritması vardır. Bunlarda birisi Lazzy learning —> öncesinden öğrenme yapmaz, yeni bir örnek geldiğinde eski örnekler ile yakınlık karşılarştırılır. eager learning —> sınıflandırma bölgelerini önceden öğreniyor, yeni bir örnek geldiğinde bu bölgelere göre sınıflandırma yapılır"
   ]
  },
  {
   "cell_type": "code",
   "execution_count": 31,
   "id": "defdc377",
   "metadata": {},
   "outputs": [
    {
     "data": {
      "text/plain": [
       "array([[1406,    0],\n",
       "       [   0, 1275]], dtype=int64)"
      ]
     },
     "execution_count": 31,
     "metadata": {},
     "output_type": "execute_result"
    }
   ],
   "source": [
    "from sklearn.neighbors import KNeighborsClassifier\n",
    "\n",
    "knn = KNeighborsClassifier(n_neighbors=5, metric= 'euclidean')\n",
    "knn.fit(X_train_sc,y_train)\n",
    "ypred = knn.predict(X_test_sc)\n",
    "cm = confusion_matrix(y_test,y_pred)\n",
    "cm"
   ]
  },
  {
   "cell_type": "code",
   "execution_count": 32,
   "id": "ef46c450",
   "metadata": {},
   "outputs": [
    {
     "data": {
      "text/plain": [
       "1.0"
      ]
     },
     "execution_count": 32,
     "metadata": {},
     "output_type": "execute_result"
    }
   ],
   "source": [
    "accuracy_score(y_test, y_pred)"
   ]
  },
  {
   "cell_type": "code",
   "execution_count": 33,
   "id": "788fc6af",
   "metadata": {},
   "outputs": [
    {
     "data": {
      "text/plain": [
       "(array([0.51515152, 1.        , 1.        , 1.        , 1.        ,\n",
       "        1.        , 1.        , 1.        , 0.8978186 , 1.        ]),\n",
       " 0.9412970114462652)"
      ]
     },
     "execution_count": 33,
     "metadata": {},
     "output_type": "execute_result"
    }
   ],
   "source": [
    "scores = cross_val_score(knn, x, y, cv=10, scoring='f1')\n",
    "scores, scores.mean()"
   ]
  },
  {
   "cell_type": "markdown",
   "id": "b7964934",
   "metadata": {},
   "source": [
    "* Modelimizin başarısının %94 olduğunu söyleyebiliriz."
   ]
  },
  {
   "cell_type": "markdown",
   "id": "a995dded",
   "metadata": {},
   "source": [
    "### Değişken Seçimi"
   ]
  },
  {
   "cell_type": "markdown",
   "id": "4d76a1f1",
   "metadata": {},
   "source": [
    "**1.Chi-Squared (Ki-kare) Yöntemi**\n",
    "\n",
    "Chi-squared (ki-kare) testi girdi ve çıktı iki kategorik değişken arasında istatistiksel anlamlılık düzeyinde ilişki olup olmadığını ölçümler.\n",
    "\n",
    "Çıktı değişken ile yapılan analizde değişkenin ikili (binary) olması beklenir."
   ]
  },
  {
   "cell_type": "code",
   "execution_count": 34,
   "id": "8c7bf07e",
   "metadata": {},
   "outputs": [
    {
     "name": "stdout",
     "output_type": "stream",
     "text": [
      "Index(['bruises_t', 'odor_f', 'odor_n', 'gill-size_n', 'gill-color_b',\n",
      "       'stalk-surface-above-ring_k', 'stalk-surface-below-ring_k',\n",
      "       'ring-type_l', 'ring-type_p', 'spore-print-color_h'],\n",
      "      dtype='object')\n"
     ]
    }
   ],
   "source": [
    "from sklearn.feature_selection import chi2\n",
    "from sklearn.feature_selection import SelectKBest\n",
    "\n",
    "# Kalmasını istediğiniz değişken sayısı\n",
    "select_k = 10 # 10 tane değişken seçmek istiyorum\n",
    "\n",
    "# Değişkenlerin seçim stratejisi belirlenir\n",
    "# chi2 = Ki-kare yönteminin kullanılmasıdır\n",
    "selection = SelectKBest(chi2, k=select_k).fit(x_train, y_train)\n",
    "\n",
    "# İlişkili olan değişkenler gösterilir.\n",
    "features = x_train.columns[selection.get_support()]\n",
    "print(features)"
   ]
  },
  {
   "cell_type": "markdown",
   "id": "3dba802a",
   "metadata": {},
   "source": [
    "* Değişken seçiminden seçtiğimiz değişkenler ile devam edelim:"
   ]
  },
  {
   "cell_type": "code",
   "execution_count": 35,
   "id": "2c20603f",
   "metadata": {},
   "outputs": [],
   "source": [
    "dfChi = pd.DataFrame(df, columns = features)"
   ]
  },
  {
   "cell_type": "code",
   "execution_count": 36,
   "id": "a973ed71",
   "metadata": {},
   "outputs": [
    {
     "data": {
      "text/html": [
       "<div>\n",
       "<style scoped>\n",
       "    .dataframe tbody tr th:only-of-type {\n",
       "        vertical-align: middle;\n",
       "    }\n",
       "\n",
       "    .dataframe tbody tr th {\n",
       "        vertical-align: top;\n",
       "    }\n",
       "\n",
       "    .dataframe thead th {\n",
       "        text-align: right;\n",
       "    }\n",
       "</style>\n",
       "<table border=\"1\" class=\"dataframe\">\n",
       "  <thead>\n",
       "    <tr style=\"text-align: right;\">\n",
       "      <th></th>\n",
       "      <th>bruises_t</th>\n",
       "      <th>odor_f</th>\n",
       "      <th>odor_n</th>\n",
       "      <th>gill-size_n</th>\n",
       "      <th>gill-color_b</th>\n",
       "      <th>stalk-surface-above-ring_k</th>\n",
       "      <th>stalk-surface-below-ring_k</th>\n",
       "      <th>ring-type_l</th>\n",
       "      <th>ring-type_p</th>\n",
       "      <th>spore-print-color_h</th>\n",
       "    </tr>\n",
       "  </thead>\n",
       "  <tbody>\n",
       "    <tr>\n",
       "      <th>0</th>\n",
       "      <td>1</td>\n",
       "      <td>0</td>\n",
       "      <td>0</td>\n",
       "      <td>1</td>\n",
       "      <td>0</td>\n",
       "      <td>0</td>\n",
       "      <td>0</td>\n",
       "      <td>0</td>\n",
       "      <td>1</td>\n",
       "      <td>0</td>\n",
       "    </tr>\n",
       "    <tr>\n",
       "      <th>1</th>\n",
       "      <td>1</td>\n",
       "      <td>0</td>\n",
       "      <td>0</td>\n",
       "      <td>0</td>\n",
       "      <td>0</td>\n",
       "      <td>0</td>\n",
       "      <td>0</td>\n",
       "      <td>0</td>\n",
       "      <td>1</td>\n",
       "      <td>0</td>\n",
       "    </tr>\n",
       "    <tr>\n",
       "      <th>2</th>\n",
       "      <td>1</td>\n",
       "      <td>0</td>\n",
       "      <td>0</td>\n",
       "      <td>0</td>\n",
       "      <td>0</td>\n",
       "      <td>0</td>\n",
       "      <td>0</td>\n",
       "      <td>0</td>\n",
       "      <td>1</td>\n",
       "      <td>0</td>\n",
       "    </tr>\n",
       "    <tr>\n",
       "      <th>3</th>\n",
       "      <td>1</td>\n",
       "      <td>0</td>\n",
       "      <td>0</td>\n",
       "      <td>1</td>\n",
       "      <td>0</td>\n",
       "      <td>0</td>\n",
       "      <td>0</td>\n",
       "      <td>0</td>\n",
       "      <td>1</td>\n",
       "      <td>0</td>\n",
       "    </tr>\n",
       "    <tr>\n",
       "      <th>4</th>\n",
       "      <td>0</td>\n",
       "      <td>0</td>\n",
       "      <td>1</td>\n",
       "      <td>0</td>\n",
       "      <td>0</td>\n",
       "      <td>0</td>\n",
       "      <td>0</td>\n",
       "      <td>0</td>\n",
       "      <td>0</td>\n",
       "      <td>0</td>\n",
       "    </tr>\n",
       "    <tr>\n",
       "      <th>...</th>\n",
       "      <td>...</td>\n",
       "      <td>...</td>\n",
       "      <td>...</td>\n",
       "      <td>...</td>\n",
       "      <td>...</td>\n",
       "      <td>...</td>\n",
       "      <td>...</td>\n",
       "      <td>...</td>\n",
       "      <td>...</td>\n",
       "      <td>...</td>\n",
       "    </tr>\n",
       "    <tr>\n",
       "      <th>8119</th>\n",
       "      <td>0</td>\n",
       "      <td>0</td>\n",
       "      <td>1</td>\n",
       "      <td>0</td>\n",
       "      <td>0</td>\n",
       "      <td>0</td>\n",
       "      <td>0</td>\n",
       "      <td>0</td>\n",
       "      <td>1</td>\n",
       "      <td>0</td>\n",
       "    </tr>\n",
       "    <tr>\n",
       "      <th>8120</th>\n",
       "      <td>0</td>\n",
       "      <td>0</td>\n",
       "      <td>1</td>\n",
       "      <td>0</td>\n",
       "      <td>0</td>\n",
       "      <td>0</td>\n",
       "      <td>0</td>\n",
       "      <td>0</td>\n",
       "      <td>1</td>\n",
       "      <td>0</td>\n",
       "    </tr>\n",
       "    <tr>\n",
       "      <th>8121</th>\n",
       "      <td>0</td>\n",
       "      <td>0</td>\n",
       "      <td>1</td>\n",
       "      <td>0</td>\n",
       "      <td>0</td>\n",
       "      <td>0</td>\n",
       "      <td>0</td>\n",
       "      <td>0</td>\n",
       "      <td>1</td>\n",
       "      <td>0</td>\n",
       "    </tr>\n",
       "    <tr>\n",
       "      <th>8122</th>\n",
       "      <td>0</td>\n",
       "      <td>0</td>\n",
       "      <td>0</td>\n",
       "      <td>1</td>\n",
       "      <td>1</td>\n",
       "      <td>0</td>\n",
       "      <td>1</td>\n",
       "      <td>0</td>\n",
       "      <td>0</td>\n",
       "      <td>0</td>\n",
       "    </tr>\n",
       "    <tr>\n",
       "      <th>8123</th>\n",
       "      <td>0</td>\n",
       "      <td>0</td>\n",
       "      <td>1</td>\n",
       "      <td>0</td>\n",
       "      <td>0</td>\n",
       "      <td>0</td>\n",
       "      <td>0</td>\n",
       "      <td>0</td>\n",
       "      <td>1</td>\n",
       "      <td>0</td>\n",
       "    </tr>\n",
       "  </tbody>\n",
       "</table>\n",
       "<p>8124 rows × 10 columns</p>\n",
       "</div>"
      ],
      "text/plain": [
       "      bruises_t  odor_f  odor_n  gill-size_n  gill-color_b  \\\n",
       "0             1       0       0            1             0   \n",
       "1             1       0       0            0             0   \n",
       "2             1       0       0            0             0   \n",
       "3             1       0       0            1             0   \n",
       "4             0       0       1            0             0   \n",
       "...         ...     ...     ...          ...           ...   \n",
       "8119          0       0       1            0             0   \n",
       "8120          0       0       1            0             0   \n",
       "8121          0       0       1            0             0   \n",
       "8122          0       0       0            1             1   \n",
       "8123          0       0       1            0             0   \n",
       "\n",
       "      stalk-surface-above-ring_k  stalk-surface-below-ring_k  ring-type_l  \\\n",
       "0                              0                           0            0   \n",
       "1                              0                           0            0   \n",
       "2                              0                           0            0   \n",
       "3                              0                           0            0   \n",
       "4                              0                           0            0   \n",
       "...                          ...                         ...          ...   \n",
       "8119                           0                           0            0   \n",
       "8120                           0                           0            0   \n",
       "8121                           0                           0            0   \n",
       "8122                           0                           1            0   \n",
       "8123                           0                           0            0   \n",
       "\n",
       "      ring-type_p  spore-print-color_h  \n",
       "0               1                    0  \n",
       "1               1                    0  \n",
       "2               1                    0  \n",
       "3               1                    0  \n",
       "4               0                    0  \n",
       "...           ...                  ...  \n",
       "8119            1                    0  \n",
       "8120            1                    0  \n",
       "8121            1                    0  \n",
       "8122            0                    0  \n",
       "8123            1                    0  \n",
       "\n",
       "[8124 rows x 10 columns]"
      ]
     },
     "execution_count": 36,
     "metadata": {},
     "output_type": "execute_result"
    }
   ],
   "source": [
    "dfChi"
   ]
  },
  {
   "cell_type": "markdown",
   "id": "cb38d948",
   "metadata": {},
   "source": [
    "* Ki kare yöntemi ile seçilen değişkenler için train ve test setlerini oluşturalım:"
   ]
  },
  {
   "cell_type": "code",
   "execution_count": 37,
   "id": "178f7ba2",
   "metadata": {},
   "outputs": [],
   "source": [
    "x_trainChi, x_testChi,y_trainChi,y_testChi = train_test_split(dfChi,y,test_size=0.33, random_state=0)"
   ]
  },
  {
   "cell_type": "code",
   "execution_count": 38,
   "id": "4b3f91f3",
   "metadata": {},
   "outputs": [],
   "source": [
    "XChi_train_sc = sc.fit_transform(x_trainChi)\n",
    "XChi_test_sc = sc.fit_transform(x_testChi)"
   ]
  },
  {
   "cell_type": "markdown",
   "id": "f3e23153",
   "metadata": {},
   "source": [
    "#### 1.1 SVM Sınıflandırma"
   ]
  },
  {
   "cell_type": "code",
   "execution_count": 39,
   "id": "7967416b",
   "metadata": {},
   "outputs": [
    {
     "name": "stdout",
     "output_type": "stream",
     "text": [
      "SVC Chi-Square değişken seçimi ile\n",
      "[[1369   37]\n",
      " [  25 1250]]\n"
     ]
    }
   ],
   "source": [
    "from sklearn.svm import SVC\n",
    "\n",
    "svcChi= SVC()\n",
    "\n",
    "svcChi.fit(x_trainChi,y_trainChi)\n",
    "\n",
    "y_predChi = svcChi.predict(x_testChi)\n",
    "\n",
    "cm = confusion_matrix(y_testChi,y_predChi)\n",
    "print('SVC Chi-Square değişken seçimi ile')\n",
    "print(cm)"
   ]
  },
  {
   "cell_type": "code",
   "execution_count": 40,
   "id": "c721258f",
   "metadata": {},
   "outputs": [
    {
     "data": {
      "text/plain": [
       "0.9768743006340918"
      ]
     },
     "execution_count": 40,
     "metadata": {},
     "output_type": "execute_result"
    }
   ],
   "source": [
    "accuracy_score(y_testChi, y_predChi)"
   ]
  },
  {
   "cell_type": "markdown",
   "id": "ffd6ea8c",
   "metadata": {},
   "source": [
    "* Değişken seçiminden sonra SVM algoritmasının başarısı %97 doğru tahmindir."
   ]
  },
  {
   "cell_type": "code",
   "execution_count": 41,
   "id": "3aa31d76",
   "metadata": {},
   "outputs": [
    {
     "data": {
      "text/plain": [
       "(array([0.51515152, 0.95018226, 0.98612863, 0.98595147, 0.96596859,\n",
       "        0.9448183 , 1.        , 1.        , 0.89269406, 0.99485861]),\n",
       " 0.9235753435670636)"
      ]
     },
     "execution_count": 41,
     "metadata": {},
     "output_type": "execute_result"
    }
   ],
   "source": [
    "scores = cross_val_score(svcChi, dfChi, y, cv=10, scoring='f1')\n",
    "scores, scores.mean()"
   ]
  },
  {
   "cell_type": "markdown",
   "id": "dbd09554",
   "metadata": {},
   "source": [
    "* doğrualama yöntemini cross validation a göre yaptığımızda bu başarı %92 oluyor. Bu yöntem daha güvenilirdir."
   ]
  },
  {
   "cell_type": "markdown",
   "id": "5da7b679",
   "metadata": {},
   "source": [
    "#### 1.2 KNN Sınıflandırma"
   ]
  },
  {
   "cell_type": "code",
   "execution_count": 42,
   "id": "6e8886a2",
   "metadata": {},
   "outputs": [
    {
     "data": {
      "text/plain": [
       "array([[1369,   37],\n",
       "       [  25, 1250]], dtype=int64)"
      ]
     },
     "execution_count": 42,
     "metadata": {},
     "output_type": "execute_result"
    }
   ],
   "source": [
    "from sklearn.neighbors import KNeighborsClassifier\n",
    "\n",
    "knnChi = KNeighborsClassifier(n_neighbors=2, metric= 'euclidean')\n",
    "knnChi.fit(XChi_train_sc,y_train)\n",
    "ypred = knnChi.predict(XChi_test_sc)\n",
    "cm = confusion_matrix(y_testChi,ypred)\n",
    "cm"
   ]
  },
  {
   "cell_type": "code",
   "execution_count": 43,
   "id": "4ceb0643",
   "metadata": {},
   "outputs": [
    {
     "data": {
      "text/plain": [
       "0.9768743006340918"
      ]
     },
     "execution_count": 43,
     "metadata": {},
     "output_type": "execute_result"
    }
   ],
   "source": [
    "accuracy_score(y_testChi, ypred)"
   ]
  },
  {
   "cell_type": "code",
   "execution_count": 44,
   "id": "ac843e0a",
   "metadata": {},
   "outputs": [
    {
     "data": {
      "text/plain": [
       "(array([0.51515152, 0.95018226, 0.99872286, 0.98595147, 0.96596859,\n",
       "        0.9448183 , 1.        , 1.        , 0.99485861, 0.99485861]),\n",
       " 0.9350512218887825)"
      ]
     },
     "execution_count": 44,
     "metadata": {},
     "output_type": "execute_result"
    }
   ],
   "source": [
    "scores = cross_val_score(knnChi, dfChi, y, cv=10, scoring='f1')\n",
    "scores, scores.mean()"
   ]
  },
  {
   "cell_type": "markdown",
   "id": "5376f481",
   "metadata": {},
   "source": [
    "* Modelimizin yaptığı tahminlerin % 93 ini doğru sınıflandırmıştır."
   ]
  },
  {
   "cell_type": "markdown",
   "id": "40b4247b",
   "metadata": {},
   "source": [
    "#### 2. Random Forest Importance"
   ]
  },
  {
   "cell_type": "markdown",
   "id": "19ba8a82",
   "metadata": {},
   "source": [
    "Algoritma daha az ilgilli olduğu istatistiksel olarak kanıtlanan değişkenleri yinelemeli olarak eler. \n",
    "\n",
    "Random Forest sınıflandırma algoritması nispeten birçok algoritmaya göre daha hızlıdır. Hiper parametreler ayarlanmadan kullanılabilir ve değişken öneminin(feature importance) sayısal bir tahminini verir. Birden fazla zayıf sınıflandırıcının(karar ağacı) oylaması ile sınıflandırmanın yapıldığı bir yöntemdir. Bu ağaçlar, eğitim setinin farklı örnekleri üzerinde bağımsız olarak geliştirilir.\n",
    "\n",
    "Önem ölçüsü, Random Forest sınıflandırıcısının rasgeleliğine bağlı olarak değişir. (Random Forest’ta her seferinde farklı ağaç kurulur ve farklı sonuçlar çıkar) Ek olarak, veri setindeki önemli olmayan özniteliklerin varlığına duyarlıdır. Bu nedenle, istatistiksel olarak geçerli sonuçlar elde etmek için bu işlem iterasyonlu şekilde devam eder.\n",
    "\n",
    "\n",
    "***farklı yorumlamalar sunumda da var***"
   ]
  },
  {
   "cell_type": "code",
   "execution_count": 45,
   "id": "5c8ae3bc",
   "metadata": {},
   "outputs": [],
   "source": [
    "from sklearn import tree\n",
    "from sklearn.ensemble import RandomForestClassifier"
   ]
  },
  {
   "cell_type": "code",
   "execution_count": 46,
   "id": "3dd76f42",
   "metadata": {},
   "outputs": [
    {
     "data": {
      "text/plain": [
       "array([1, 0, 0, ..., 1, 0, 1])"
      ]
     },
     "execution_count": 46,
     "metadata": {},
     "output_type": "execute_result"
    }
   ],
   "source": [
    "clf = RandomForestClassifier(n_estimators=100, random_state=0)\n",
    "\n",
    "clf.fit(X_train_sc, y_train)\n",
    "\n",
    "y_pred = clf.predict(X_test_sc)\n",
    "\n",
    "y_pred"
   ]
  },
  {
   "cell_type": "code",
   "execution_count": 47,
   "id": "f34294b0",
   "metadata": {},
   "outputs": [
    {
     "data": {
      "text/plain": [
       "<AxesSubplot:>"
      ]
     },
     "execution_count": 47,
     "metadata": {},
     "output_type": "execute_result"
    },
    {
     "data": {
      "image/png": "[encoded data removed]",
      "text/plain": [
       "<Figure size 800x640 with 1 Axes>"
      ]
     },
     "metadata": {},
     "output_type": "display_data"
    }
   ],
   "source": [
    "# visualize feature importance\n",
    "\n",
    "plt.figure(num=None, figsize=(10,8), dpi=80, facecolor='w', edgecolor='k')\n",
    "\n",
    "feat_importances = pd.Series(clf.feature_importances_, index= x.columns)\n",
    "\n",
    "feat_importances.nlargest(10).plot(kind='barh')"
   ]
  },
  {
   "cell_type": "code",
   "execution_count": 48,
   "id": "2eb07533",
   "metadata": {},
   "outputs": [
    {
     "data": {
      "text/html": [
       "<div>\n",
       "<style scoped>\n",
       "    .dataframe tbody tr th:only-of-type {\n",
       "        vertical-align: middle;\n",
       "    }\n",
       "\n",
       "    .dataframe tbody tr th {\n",
       "        vertical-align: top;\n",
       "    }\n",
       "\n",
       "    .dataframe thead th {\n",
       "        text-align: right;\n",
       "    }\n",
       "</style>\n",
       "<table border=\"1\" class=\"dataframe\">\n",
       "  <thead>\n",
       "    <tr style=\"text-align: right;\">\n",
       "      <th></th>\n",
       "      <th>odor_n</th>\n",
       "      <th>odor_f</th>\n",
       "      <th>gill-size_b</th>\n",
       "      <th>gill-size_n</th>\n",
       "      <th>gill-color_b</th>\n",
       "      <th>spore-print-color_h</th>\n",
       "      <th>stalk-surface-below-ring_k</th>\n",
       "      <th>stalk-surface-above-ring_k</th>\n",
       "      <th>ring-type_p</th>\n",
       "      <th>population_v</th>\n",
       "    </tr>\n",
       "  </thead>\n",
       "  <tbody>\n",
       "    <tr>\n",
       "      <th>0</th>\n",
       "      <td>0</td>\n",
       "      <td>0</td>\n",
       "      <td>0</td>\n",
       "      <td>1</td>\n",
       "      <td>0</td>\n",
       "      <td>0</td>\n",
       "      <td>0</td>\n",
       "      <td>0</td>\n",
       "      <td>1</td>\n",
       "      <td>0</td>\n",
       "    </tr>\n",
       "    <tr>\n",
       "      <th>1</th>\n",
       "      <td>0</td>\n",
       "      <td>0</td>\n",
       "      <td>1</td>\n",
       "      <td>0</td>\n",
       "      <td>0</td>\n",
       "      <td>0</td>\n",
       "      <td>0</td>\n",
       "      <td>0</td>\n",
       "      <td>1</td>\n",
       "      <td>0</td>\n",
       "    </tr>\n",
       "    <tr>\n",
       "      <th>2</th>\n",
       "      <td>0</td>\n",
       "      <td>0</td>\n",
       "      <td>1</td>\n",
       "      <td>0</td>\n",
       "      <td>0</td>\n",
       "      <td>0</td>\n",
       "      <td>0</td>\n",
       "      <td>0</td>\n",
       "      <td>1</td>\n",
       "      <td>0</td>\n",
       "    </tr>\n",
       "    <tr>\n",
       "      <th>3</th>\n",
       "      <td>0</td>\n",
       "      <td>0</td>\n",
       "      <td>0</td>\n",
       "      <td>1</td>\n",
       "      <td>0</td>\n",
       "      <td>0</td>\n",
       "      <td>0</td>\n",
       "      <td>0</td>\n",
       "      <td>1</td>\n",
       "      <td>0</td>\n",
       "    </tr>\n",
       "    <tr>\n",
       "      <th>4</th>\n",
       "      <td>1</td>\n",
       "      <td>0</td>\n",
       "      <td>1</td>\n",
       "      <td>0</td>\n",
       "      <td>0</td>\n",
       "      <td>0</td>\n",
       "      <td>0</td>\n",
       "      <td>0</td>\n",
       "      <td>0</td>\n",
       "      <td>0</td>\n",
       "    </tr>\n",
       "    <tr>\n",
       "      <th>...</th>\n",
       "      <td>...</td>\n",
       "      <td>...</td>\n",
       "      <td>...</td>\n",
       "      <td>...</td>\n",
       "      <td>...</td>\n",
       "      <td>...</td>\n",
       "      <td>...</td>\n",
       "      <td>...</td>\n",
       "      <td>...</td>\n",
       "      <td>...</td>\n",
       "    </tr>\n",
       "    <tr>\n",
       "      <th>8119</th>\n",
       "      <td>1</td>\n",
       "      <td>0</td>\n",
       "      <td>1</td>\n",
       "      <td>0</td>\n",
       "      <td>0</td>\n",
       "      <td>0</td>\n",
       "      <td>0</td>\n",
       "      <td>0</td>\n",
       "      <td>1</td>\n",
       "      <td>0</td>\n",
       "    </tr>\n",
       "    <tr>\n",
       "      <th>8120</th>\n",
       "      <td>1</td>\n",
       "      <td>0</td>\n",
       "      <td>1</td>\n",
       "      <td>0</td>\n",
       "      <td>0</td>\n",
       "      <td>0</td>\n",
       "      <td>0</td>\n",
       "      <td>0</td>\n",
       "      <td>1</td>\n",
       "      <td>1</td>\n",
       "    </tr>\n",
       "    <tr>\n",
       "      <th>8121</th>\n",
       "      <td>1</td>\n",
       "      <td>0</td>\n",
       "      <td>1</td>\n",
       "      <td>0</td>\n",
       "      <td>0</td>\n",
       "      <td>0</td>\n",
       "      <td>0</td>\n",
       "      <td>0</td>\n",
       "      <td>1</td>\n",
       "      <td>0</td>\n",
       "    </tr>\n",
       "    <tr>\n",
       "      <th>8122</th>\n",
       "      <td>0</td>\n",
       "      <td>0</td>\n",
       "      <td>0</td>\n",
       "      <td>1</td>\n",
       "      <td>1</td>\n",
       "      <td>0</td>\n",
       "      <td>1</td>\n",
       "      <td>0</td>\n",
       "      <td>0</td>\n",
       "      <td>1</td>\n",
       "    </tr>\n",
       "    <tr>\n",
       "      <th>8123</th>\n",
       "      <td>1</td>\n",
       "      <td>0</td>\n",
       "      <td>1</td>\n",
       "      <td>0</td>\n",
       "      <td>0</td>\n",
       "      <td>0</td>\n",
       "      <td>0</td>\n",
       "      <td>0</td>\n",
       "      <td>1</td>\n",
       "      <td>0</td>\n",
       "    </tr>\n",
       "  </tbody>\n",
       "</table>\n",
       "<p>8124 rows × 10 columns</p>\n",
       "</div>"
      ],
      "text/plain": [
       "      odor_n  odor_f  gill-size_b  gill-size_n  gill-color_b  \\\n",
       "0          0       0            0            1             0   \n",
       "1          0       0            1            0             0   \n",
       "2          0       0            1            0             0   \n",
       "3          0       0            0            1             0   \n",
       "4          1       0            1            0             0   \n",
       "...      ...     ...          ...          ...           ...   \n",
       "8119       1       0            1            0             0   \n",
       "8120       1       0            1            0             0   \n",
       "8121       1       0            1            0             0   \n",
       "8122       0       0            0            1             1   \n",
       "8123       1       0            1            0             0   \n",
       "\n",
       "      spore-print-color_h  stalk-surface-below-ring_k  \\\n",
       "0                       0                           0   \n",
       "1                       0                           0   \n",
       "2                       0                           0   \n",
       "3                       0                           0   \n",
       "4                       0                           0   \n",
       "...                   ...                         ...   \n",
       "8119                    0                           0   \n",
       "8120                    0                           0   \n",
       "8121                    0                           0   \n",
       "8122                    0                           1   \n",
       "8123                    0                           0   \n",
       "\n",
       "      stalk-surface-above-ring_k  ring-type_p  population_v  \n",
       "0                              0            1             0  \n",
       "1                              0            1             0  \n",
       "2                              0            1             0  \n",
       "3                              0            1             0  \n",
       "4                              0            0             0  \n",
       "...                          ...          ...           ...  \n",
       "8119                           0            1             0  \n",
       "8120                           0            1             1  \n",
       "8121                           0            1             0  \n",
       "8122                           0            0             1  \n",
       "8123                           0            1             0  \n",
       "\n",
       "[8124 rows x 10 columns]"
      ]
     },
     "execution_count": 48,
     "metadata": {},
     "output_type": "execute_result"
    }
   ],
   "source": [
    "I = feat_importances.nlargest(10)\n",
    "\n",
    "I = pd.DataFrame(I).index\n",
    "\n",
    "df_RF = pd.DataFrame(df, columns = I) # yeni veri seti\n",
    "\n",
    "df_RF"
   ]
  },
  {
   "cell_type": "code",
   "execution_count": 49,
   "id": "f515651b",
   "metadata": {},
   "outputs": [],
   "source": [
    "x_trainRF, x_testRF,y_trainRF,y_testRF = train_test_split(df_RF,y,test_size=0.33, random_state=0)"
   ]
  },
  {
   "cell_type": "code",
   "execution_count": 50,
   "id": "cf9e030c",
   "metadata": {},
   "outputs": [],
   "source": [
    "XRF_train_sc = sc.fit_transform(x_trainRF)\n",
    "XRF_test_sc = sc.fit_transform(x_testRF)"
   ]
  },
  {
   "cell_type": "markdown",
   "id": "c10089b6",
   "metadata": {},
   "source": [
    "* RF değişken seçimi ile elde ettiğimiz 10 değişken için veri setimizi tekrardan oluşturduk "
   ]
  },
  {
   "cell_type": "markdown",
   "id": "00317c9c",
   "metadata": {},
   "source": [
    "#### 2.1 SVM Sınıflandırma"
   ]
  },
  {
   "cell_type": "code",
   "execution_count": 51,
   "id": "3b87aa15",
   "metadata": {},
   "outputs": [
    {
     "name": "stdout",
     "output_type": "stream",
     "text": [
      "SVC\n",
      "[[1369   37]\n",
      " [  24 1251]]\n"
     ]
    }
   ],
   "source": [
    "from sklearn.svm import SVC\n",
    "\n",
    "svcRF = SVC()\n",
    "svcRF.fit(x_trainRF,y_trainRF)\n",
    "\n",
    "y_predRF = svcRF.predict(x_testRF)\n",
    "\n",
    "cm = confusion_matrix(y_testRF,y_predRF)\n",
    "print('SVC')\n",
    "print(cm)"
   ]
  },
  {
   "cell_type": "code",
   "execution_count": 52,
   "id": "61f7c3f5",
   "metadata": {},
   "outputs": [
    {
     "data": {
      "text/plain": [
       "0.9772472957851548"
      ]
     },
     "execution_count": 52,
     "metadata": {},
     "output_type": "execute_result"
    }
   ],
   "source": [
    "accuracy_score(y_testRF, y_predRF)"
   ]
  },
  {
   "cell_type": "code",
   "execution_count": 53,
   "id": "5bf108ea",
   "metadata": {},
   "outputs": [
    {
     "data": {
      "text/plain": [
       "(array([0.95377129, 0.95018226, 0.98484848, 0.98595147, 0.95915679,\n",
       "        0.94197031, 1.        , 1.        , 0.89269406, 0.99485861]),\n",
       " 0.9663433274507826)"
      ]
     },
     "execution_count": 53,
     "metadata": {},
     "output_type": "execute_result"
    }
   ],
   "source": [
    "scores = cross_val_score(svcRF, df_RF, y, cv=10, scoring='f1')\n",
    "scores, scores.mean()"
   ]
  },
  {
   "cell_type": "markdown",
   "id": "c2733801",
   "metadata": {},
   "source": [
    "* modelin başarısı % 97"
   ]
  },
  {
   "cell_type": "markdown",
   "id": "39cd2095",
   "metadata": {},
   "source": [
    "#### 2.2 KNN Sınıflandırma"
   ]
  },
  {
   "cell_type": "code",
   "execution_count": 54,
   "id": "35b511af",
   "metadata": {},
   "outputs": [
    {
     "data": {
      "text/plain": [
       "array([[1406,    0],\n",
       "       [  95, 1180]], dtype=int64)"
      ]
     },
     "execution_count": 54,
     "metadata": {},
     "output_type": "execute_result"
    }
   ],
   "source": [
    "from sklearn.neighbors import KNeighborsClassifier\n",
    "\n",
    "knnRF = KNeighborsClassifier(n_neighbors=4, metric= 'euclidean')\n",
    "knnRF.fit(XRF_train_sc,y_train)\n",
    "ypred = knnRF.predict(XRF_test_sc)\n",
    "cm = confusion_matrix(y_testRF,ypred)\n",
    "cm"
   ]
  },
  {
   "cell_type": "code",
   "execution_count": 55,
   "id": "35d96a5a",
   "metadata": {},
   "outputs": [
    {
     "data": {
      "text/plain": [
       "0.9645654606490116"
      ]
     },
     "execution_count": 55,
     "metadata": {},
     "output_type": "execute_result"
    }
   ],
   "source": [
    "accuracy_score(y_testRF, ypred)"
   ]
  },
  {
   "cell_type": "code",
   "execution_count": 56,
   "id": "549bf41e",
   "metadata": {},
   "outputs": [
    {
     "data": {
      "text/plain": [
       "(array([0.75949367, 0.91262136, 0.98484848, 0.98343949, 0.95915679,\n",
       "        0.94197031, 1.        , 1.        , 0.97142857, 1.        ]),\n",
       " 0.9512958672467399)"
      ]
     },
     "execution_count": 56,
     "metadata": {},
     "output_type": "execute_result"
    }
   ],
   "source": [
    "scores = cross_val_score(knnRF, df_RF, y, cv=10, scoring='f1')\n",
    "scores, scores.mean()"
   ]
  },
  {
   "cell_type": "markdown",
   "id": "f1b04dfe",
   "metadata": {},
   "source": [
    "* Modelimiz test verilerini %95 doğru sınıflandırdı"
   ]
  },
  {
   "cell_type": "markdown",
   "id": "dacf6bec",
   "metadata": {},
   "source": [
    "#### Sonuç"
   ]
  },
  {
   "cell_type": "markdown",
   "id": "bb8240ff",
   "metadata": {},
   "source": [
    "* Birkaç yöntem ile model eğittikten sonra tahmin için Random Forest ile değişken seçimi yapılmış SVC modelini kullanarak tahmin denemesi yapalım."
   ]
  },
  {
   "cell_type": "code",
   "execution_count": 57,
   "id": "16e4dd9d",
   "metadata": {},
   "outputs": [
    {
     "data": {
      "text/html": [
       "<div>\n",
       "<style scoped>\n",
       "    .dataframe tbody tr th:only-of-type {\n",
       "        vertical-align: middle;\n",
       "    }\n",
       "\n",
       "    .dataframe tbody tr th {\n",
       "        vertical-align: top;\n",
       "    }\n",
       "\n",
       "    .dataframe thead th {\n",
       "        text-align: right;\n",
       "    }\n",
       "</style>\n",
       "<table border=\"1\" class=\"dataframe\">\n",
       "  <thead>\n",
       "    <tr style=\"text-align: right;\">\n",
       "      <th></th>\n",
       "      <th>odor_n</th>\n",
       "      <th>odor_f</th>\n",
       "      <th>gill-size_b</th>\n",
       "      <th>gill-size_n</th>\n",
       "      <th>gill-color_b</th>\n",
       "      <th>spore-print-color_h</th>\n",
       "      <th>stalk-surface-below-ring_k</th>\n",
       "      <th>stalk-surface-above-ring_k</th>\n",
       "      <th>ring-type_p</th>\n",
       "      <th>population_v</th>\n",
       "    </tr>\n",
       "  </thead>\n",
       "  <tbody>\n",
       "    <tr>\n",
       "      <th>0</th>\n",
       "      <td>1</td>\n",
       "      <td>0</td>\n",
       "      <td>1</td>\n",
       "      <td>0</td>\n",
       "      <td>0</td>\n",
       "      <td>1</td>\n",
       "      <td>1</td>\n",
       "      <td>0</td>\n",
       "      <td>0</td>\n",
       "      <td>1</td>\n",
       "    </tr>\n",
       "  </tbody>\n",
       "</table>\n",
       "</div>"
      ],
      "text/plain": [
       "   odor_n  odor_f  gill-size_b  gill-size_n  gill-color_b  \\\n",
       "0       1       0            1            0             0   \n",
       "\n",
       "   spore-print-color_h  stalk-surface-below-ring_k  \\\n",
       "0                    1                           1   \n",
       "\n",
       "   stalk-surface-above-ring_k  ring-type_p  population_v  \n",
       "0                           0            0             1  "
      ]
     },
     "execution_count": 57,
     "metadata": {},
     "output_type": "execute_result"
    }
   ],
   "source": [
    "y_deneme = pd.DataFrame([[1,0,1,0,0,1,1,0,0,1]], columns = I)\n",
    "\n",
    "y_deneme"
   ]
  },
  {
   "cell_type": "code",
   "execution_count": 58,
   "id": "545c2b2d",
   "metadata": {},
   "outputs": [
    {
     "name": "stdout",
     "output_type": "stream",
     "text": [
      "girdiğimiz özelliklere sahip bir mantar için Random Forest ile değişken seçimi yapılmış SVC modelini kullanarak sınıflandırma sonucu = [0]\n",
      "girdiğimiz özelliklere sahip bir mantar için Chi-Square ile değişken seçimi yapılmış SVC modelini kullanarak sınıflandırma sonucu = [1]\n",
      "girdiğimiz özelliklere sahip bir mantar için Random Forest ile değişken seçimi yapılmış KNN modelini kullanarak sınıflandırma sonucu = [0]\n",
      "girdiğimiz özelliklere sahip bir mantar için Chi-Square ile değişken seçimi yapılmış KNN modelini kullanarak sınıflandırma sonucu = [0]\n"
     ]
    }
   ],
   "source": [
    "SVM_predRF = svcRF.predict(y_deneme)\n",
    "print(\"girdiğimiz özelliklere sahip bir mantar için Random Forest ile değişken seçimi yapılmış SVC modelini kullanarak sınıflandırma sonucu = \" + str(SVM_predRF))\n",
    "\n",
    "SVM_predChi = svcChi.predict(y_deneme)\n",
    "print(\"girdiğimiz özelliklere sahip bir mantar için Chi-Square ile değişken seçimi yapılmış SVC modelini kullanarak sınıflandırma sonucu = \" + str(SVM_predChi))\n",
    "\n",
    "KNN_predRF = knnRF.predict(y_deneme)\n",
    "print(\"girdiğimiz özelliklere sahip bir mantar için Random Forest ile değişken seçimi yapılmış KNN modelini kullanarak sınıflandırma sonucu = \" + str(KNN_predRF))\n",
    "\n",
    "KNN_predChi = knnChi.predict(y_deneme)\n",
    "print(\"girdiğimiz özelliklere sahip bir mantar için Chi-Square ile değişken seçimi yapılmış KNN modelini kullanarak sınıflandırma sonucu = \" + str(KNN_predChi))\n"
   ]
  }
 ],
 "metadata": {
  "kernelspec": {
   "display_name": "Python 3",
   "language": "python",
   "name": "python3"
  },
  "language_info": {
   "codemirror_mode": {
    "name": "ipython",
    "version": 3
   },
   "file_extension": ".py",
   "mimetype": "text/x-python",
   "name": "python",
   "nbconvert_exporter": "python",
   "pygments_lexer": "ipython3",
   "version": "3.8.8"
  }
 },
 "nbformat": 4,
 "nbformat_minor": 5
}
